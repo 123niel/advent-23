{
 "cells": [
  {
   "cell_type": "code",
   "execution_count": 1,
   "metadata": {
    "collapsed": true,
    "ExecuteTime": {
     "end_time": "2023-12-06T11:34:07.659564Z",
     "start_time": "2023-12-06T11:34:05.402258Z"
    }
   },
   "outputs": [
    {
     "data": {
      "text/plain": ""
     },
     "metadata": {},
     "output_type": "display_data"
    },
    {
     "data": {
      "text/html": "            <div id=\"kotlin_out_0\"></div>\n            <script type=\"text/javascript\">\n                            if(!window.kotlinQueues) {\n                window.kotlinQueues = {};\n            }\n            if(!window.kotlinQueues[\"kandyLetsPlot\"]) {\n                var resQueue = [];\n                window.kotlinQueues[\"kandyLetsPlot\"] = resQueue;\n                window[\"call_kandyLetsPlot\"] = function(f) {\n                    resQueue.push(f);\n                }\n            }\n            (function (){\n                var modifiers = [(function(script) {\n    script.src = \"https://cdn.jsdelivr.net/gh/JetBrains/lets-plot@v3.1.0/js-package/distr/lets-plot.min.js\"\n    script.type = \"text/javascript\";\n})];\n                var e = document.getElementById(\"kotlin_out_0\");\n                modifiers.forEach(function (gen) {\n                    var script = document.createElement(\"script\");\n                    gen(script)\n                    script.addEventListener(\"load\", function() {\n                        window[\"call_kandyLetsPlot\"] = function(f) {f();};\n                        window.kotlinQueues[\"kandyLetsPlot\"].forEach(function(f) {f();});\n                        window.kotlinQueues[\"kandyLetsPlot\"] = [];\n                    }, false);\n                    script.addEventListener(\"error\", function() {\n                        window[\"call_kandyLetsPlot\"] = function(f) {};\n                        window.kotlinQueues[\"kandyLetsPlot\"] = [];\n                        var div = document.createElement(\"div\");\n                        div.style.color = 'darkred';\n                        div.textContent = 'Error loading resource kandyLetsPlot';\n                        document.getElementById(\"kotlin_out_0\").appendChild(div);\n                    }, false);\n                    \n                    e.appendChild(script);\n                });\n            })();\n            </script>"
     },
     "metadata": {},
     "output_type": "display_data"
    }
   ],
   "source": [
    "%use kandy"
   ]
  },
  {
   "cell_type": "code",
   "execution_count": 2,
   "outputs": [],
   "source": [
    "infix fun ClosedRange<Double>.step(step: Double): Iterable<Double> {\n",
    "    require(start.isFinite())\n",
    "    require(endInclusive.isFinite())\n",
    "    require(step > 0.0) { \"Step must be positive, was: $step.\" }\n",
    "    val sequence = generateSequence(start) { previous ->\n",
    "        if (previous == Double.POSITIVE_INFINITY) return@generateSequence null\n",
    "        val next = previous + step\n",
    "        if (next > endInclusive) null else next\n",
    "    }\n",
    "    return sequence.asIterable()\n",
    "}"
   ],
   "metadata": {
    "collapsed": false,
    "ExecuteTime": {
     "end_time": "2023-12-06T11:34:07.943112Z",
     "start_time": "2023-12-06T11:34:07.660529Z"
    }
   }
  },
  {
   "cell_type": "code",
   "execution_count": 3,
   "outputs": [],
   "source": [
    "import kotlin.io.path.Path\n",
    "import kotlin.io.path.readLines\n",
    "\n",
    "val (time, dist) = Path(\"src/Day06.txt\").readLines().parse1()[0]\n"
   ],
   "metadata": {
    "collapsed": false,
    "ExecuteTime": {
     "end_time": "2023-12-06T11:34:08.034363Z",
     "start_time": "2023-12-06T11:34:07.943532Z"
    }
   }
  },
  {
   "cell_type": "code",
   "execution_count": 4,
   "outputs": [],
   "source": [
    "data class Point(val x: Long, val y: Long){\n",
    "    companion object{\n",
    "        fun fromPair(pair: Pair<Long, Long>) = Point(pair.first, pair.second)\n",
    "    }\n",
    "}\n",
    "\n",
    "data class Line(val from: Point, val to: Point)"
   ],
   "metadata": {
    "collapsed": false,
    "ExecuteTime": {
     "end_time": "2023-12-06T11:34:08.149871Z",
     "start_time": "2023-12-06T11:34:08.034299Z"
    }
   }
  },
  {
   "cell_type": "code",
   "execution_count": 8,
   "outputs": [
    {
     "data": {
      "text/html": "            <script type=\"text/javascript\" data-lets-plot-script=\"library\" src=\"https://cdn.jsdelivr.net/gh/JetBrains/lets-plot@v3.1.0/js-package/distr/lets-plot.min.js\"></script>    \n               <div id=\"OcAVC3\"></div>\n   <script type=\"text/javascript\" data-lets-plot-script=\"plot\">\n       var plotSpec={\n\"mapping\":{\n},\n\"data\":{\n},\n\"kind\":\"plot\",\n\"scales\":[{\n\"aesthetic\":\"x\",\n\"limits\":[null,null]\n},{\n\"aesthetic\":\"y\",\n\"limits\":[null,null]\n},{\n\"aesthetic\":\"x\",\n\"limits\":[null,null]\n},{\n\"aesthetic\":\"y\",\n\"limits\":[null,null]\n},{\n\"aesthetic\":\"x\",\n\"limits\":[null,null]\n},{\n\"aesthetic\":\"y\",\n\"limits\":[null,null]\n},{\n\"aesthetic\":\"x\",\n\"limits\":[null,null]\n},{\n\"aesthetic\":\"y\",\n\"limits\":[null,null]\n},{\n\"aesthetic\":\"x\",\n\"limits\":[null,null]\n},{\n\"aesthetic\":\"y\",\n\"limits\":[null,null]\n},{\n\"aesthetic\":\"x\",\n\"limits\":[null,null]\n},{\n\"aesthetic\":\"y\",\n\"limits\":[null,null]\n},{\n\"aesthetic\":\"x\",\n\"limits\":[null,null]\n},{\n\"aesthetic\":\"y\",\n\"limits\":[null,null]\n},{\n\"aesthetic\":\"x\",\n\"limits\":[null,null]\n},{\n\"aesthetic\":\"y\",\n\"limits\":[null,null]\n},{\n\"aesthetic\":\"x\",\n\"limits\":[null,null]\n},{\n\"aesthetic\":\"y\",\n\"limits\":[null,null]\n},{\n\"aesthetic\":\"x\",\n\"limits\":[null,null]\n},{\n\"aesthetic\":\"y\",\n\"limits\":[null,null]\n},{\n\"aesthetic\":\"x\",\n\"limits\":[null,null]\n},{\n\"aesthetic\":\"y\",\n\"limits\":[null,null]\n},{\n\"aesthetic\":\"x\",\n\"limits\":[null,null]\n},{\n\"aesthetic\":\"y\",\n\"limits\":[null,null]\n},{\n\"aesthetic\":\"x\",\n\"limits\":[null,null]\n},{\n\"aesthetic\":\"y\",\n\"limits\":[null,null]\n},{\n\"aesthetic\":\"x\",\n\"limits\":[null,null]\n},{\n\"aesthetic\":\"y\",\n\"limits\":[null,null]\n},{\n\"aesthetic\":\"x\",\n\"limits\":[null,null]\n},{\n\"aesthetic\":\"y\",\n\"limits\":[null,null]\n},{\n\"aesthetic\":\"x\",\n\"limits\":[null,null]\n},{\n\"aesthetic\":\"y\",\n\"limits\":[null,null]\n},{\n\"aesthetic\":\"x\",\n\"limits\":[null,null]\n},{\n\"aesthetic\":\"y\",\n\"limits\":[null,null]\n},{\n\"aesthetic\":\"x\",\n\"limits\":[null,null]\n},{\n\"aesthetic\":\"y\",\n\"limits\":[null,null]\n},{\n\"aesthetic\":\"x\",\n\"limits\":[null,null]\n},{\n\"aesthetic\":\"y\",\n\"limits\":[null,null]\n},{\n\"aesthetic\":\"x\",\n\"limits\":[null,null]\n},{\n\"aesthetic\":\"y\",\n\"limits\":[null,null]\n},{\n\"aesthetic\":\"x\",\n\"limits\":[null,null]\n},{\n\"aesthetic\":\"y\",\n\"limits\":[null,null]\n},{\n\"aesthetic\":\"x\",\n\"limits\":[null,null]\n},{\n\"aesthetic\":\"y\",\n\"limits\":[null,null]\n},{\n\"aesthetic\":\"x\",\n\"limits\":[null,null]\n},{\n\"aesthetic\":\"y\",\n\"limits\":[null,null]\n},{\n\"aesthetic\":\"x\",\n\"limits\":[null,null]\n},{\n\"aesthetic\":\"y\",\n\"limits\":[null,null]\n},{\n\"aesthetic\":\"x\",\n\"limits\":[null,null]\n},{\n\"aesthetic\":\"y\",\n\"limits\":[null,null]\n},{\n\"aesthetic\":\"x\",\n\"limits\":[null,null]\n},{\n\"aesthetic\":\"y\",\n\"limits\":[null,null]\n},{\n\"aesthetic\":\"x\",\n\"limits\":[null,null]\n},{\n\"aesthetic\":\"y\",\n\"limits\":[null,null]\n},{\n\"aesthetic\":\"x\",\n\"limits\":[null,null]\n},{\n\"aesthetic\":\"y\",\n\"limits\":[null,null]\n},{\n\"aesthetic\":\"x\",\n\"limits\":[null,null]\n},{\n\"aesthetic\":\"y\",\n\"limits\":[null,null]\n},{\n\"aesthetic\":\"x\",\n\"limits\":[null,null]\n},{\n\"aesthetic\":\"y\",\n\"limits\":[null,null]\n},{\n\"aesthetic\":\"x\",\n\"limits\":[null,null]\n},{\n\"aesthetic\":\"y\",\n\"limits\":[null,null]\n},{\n\"aesthetic\":\"x\",\n\"limits\":[null,null]\n},{\n\"aesthetic\":\"y\",\n\"limits\":[null,null]\n},{\n\"aesthetic\":\"x\",\n\"limits\":[null,null]\n},{\n\"aesthetic\":\"y\",\n\"limits\":[null,null]\n},{\n\"aesthetic\":\"x\",\n\"limits\":[null,null]\n},{\n\"aesthetic\":\"y\",\n\"limits\":[null,null]\n},{\n\"aesthetic\":\"x\",\n\"limits\":[null,null]\n},{\n\"aesthetic\":\"y\",\n\"limits\":[null,null]\n}],\n\"layers\":[{\n\"mapping\":{\n\"x\":\"x\",\n\"y\":\"y\"\n},\n\"stat\":\"identity\",\n\"data\":{\n\"x\":[8.0,35.0],\n\"y\":[0.0,216.0]\n},\n\"color\":\"#3ba272\",\n\"sampling\":\"none\",\n\"position\":\"identity\",\n\"geom\":\"line\"\n},{\n\"mapping\":{\n\"x\":\"x\",\n\"y\":\"y\"\n},\n\"stat\":\"identity\",\n\"data\":{\n\"x\":[9.0,35.0],\n\"y\":[0.0,234.0]\n},\n\"color\":\"#3ba272\",\n\"sampling\":\"none\",\n\"position\":\"identity\",\n\"geom\":\"line\"\n},{\n\"mapping\":{\n\"x\":\"x\",\n\"y\":\"y\"\n},\n\"stat\":\"identity\",\n\"data\":{\n\"x\":[10.0,35.0],\n\"y\":[0.0,250.0]\n},\n\"color\":\"#3ba272\",\n\"sampling\":\"none\",\n\"position\":\"identity\",\n\"geom\":\"line\"\n},{\n\"mapping\":{\n\"x\":\"x\",\n\"y\":\"y\"\n},\n\"stat\":\"identity\",\n\"data\":{\n\"x\":[11.0,35.0],\n\"y\":[0.0,264.0]\n},\n\"color\":\"#3ba272\",\n\"sampling\":\"none\",\n\"position\":\"identity\",\n\"geom\":\"line\"\n},{\n\"mapping\":{\n\"x\":\"x\",\n\"y\":\"y\"\n},\n\"stat\":\"identity\",\n\"data\":{\n\"x\":[12.0,35.0],\n\"y\":[0.0,276.0]\n},\n\"color\":\"#3ba272\",\n\"sampling\":\"none\",\n\"position\":\"identity\",\n\"geom\":\"line\"\n},{\n\"mapping\":{\n\"x\":\"x\",\n\"y\":\"y\"\n},\n\"stat\":\"identity\",\n\"data\":{\n\"x\":[13.0,35.0],\n\"y\":[0.0,286.0]\n},\n\"color\":\"#3ba272\",\n\"sampling\":\"none\",\n\"position\":\"identity\",\n\"geom\":\"line\"\n},{\n\"mapping\":{\n\"x\":\"x\",\n\"y\":\"y\"\n},\n\"stat\":\"identity\",\n\"data\":{\n\"x\":[14.0,35.0],\n\"y\":[0.0,294.0]\n},\n\"color\":\"#3ba272\",\n\"sampling\":\"none\",\n\"position\":\"identity\",\n\"geom\":\"line\"\n},{\n\"mapping\":{\n\"x\":\"x\",\n\"y\":\"y\"\n},\n\"stat\":\"identity\",\n\"data\":{\n\"x\":[15.0,35.0],\n\"y\":[0.0,300.0]\n},\n\"color\":\"#3ba272\",\n\"sampling\":\"none\",\n\"position\":\"identity\",\n\"geom\":\"line\"\n},{\n\"mapping\":{\n\"x\":\"x\",\n\"y\":\"y\"\n},\n\"stat\":\"identity\",\n\"data\":{\n\"x\":[16.0,35.0],\n\"y\":[0.0,304.0]\n},\n\"color\":\"#3ba272\",\n\"sampling\":\"none\",\n\"position\":\"identity\",\n\"geom\":\"line\"\n},{\n\"mapping\":{\n\"x\":\"x\",\n\"y\":\"y\"\n},\n\"stat\":\"identity\",\n\"data\":{\n\"x\":[17.0,35.0],\n\"y\":[0.0,306.0]\n},\n\"color\":\"#3ba272\",\n\"sampling\":\"none\",\n\"position\":\"identity\",\n\"geom\":\"line\"\n},{\n\"mapping\":{\n\"x\":\"x\",\n\"y\":\"y\"\n},\n\"stat\":\"identity\",\n\"data\":{\n\"x\":[18.0,35.0],\n\"y\":[0.0,306.0]\n},\n\"color\":\"#3ba272\",\n\"sampling\":\"none\",\n\"position\":\"identity\",\n\"geom\":\"line\"\n},{\n\"mapping\":{\n\"x\":\"x\",\n\"y\":\"y\"\n},\n\"stat\":\"identity\",\n\"data\":{\n\"x\":[19.0,35.0],\n\"y\":[0.0,304.0]\n},\n\"color\":\"#3ba272\",\n\"sampling\":\"none\",\n\"position\":\"identity\",\n\"geom\":\"line\"\n},{\n\"mapping\":{\n\"x\":\"x\",\n\"y\":\"y\"\n},\n\"stat\":\"identity\",\n\"data\":{\n\"x\":[20.0,35.0],\n\"y\":[0.0,300.0]\n},\n\"color\":\"#3ba272\",\n\"sampling\":\"none\",\n\"position\":\"identity\",\n\"geom\":\"line\"\n},{\n\"mapping\":{\n\"x\":\"x\",\n\"y\":\"y\"\n},\n\"stat\":\"identity\",\n\"data\":{\n\"x\":[21.0,35.0],\n\"y\":[0.0,294.0]\n},\n\"color\":\"#3ba272\",\n\"sampling\":\"none\",\n\"position\":\"identity\",\n\"geom\":\"line\"\n},{\n\"mapping\":{\n\"x\":\"x\",\n\"y\":\"y\"\n},\n\"stat\":\"identity\",\n\"data\":{\n\"x\":[22.0,35.0],\n\"y\":[0.0,286.0]\n},\n\"color\":\"#3ba272\",\n\"sampling\":\"none\",\n\"position\":\"identity\",\n\"geom\":\"line\"\n},{\n\"mapping\":{\n\"x\":\"x\",\n\"y\":\"y\"\n},\n\"stat\":\"identity\",\n\"data\":{\n\"x\":[23.0,35.0],\n\"y\":[0.0,276.0]\n},\n\"color\":\"#3ba272\",\n\"sampling\":\"none\",\n\"position\":\"identity\",\n\"geom\":\"line\"\n},{\n\"mapping\":{\n\"x\":\"x\",\n\"y\":\"y\"\n},\n\"stat\":\"identity\",\n\"data\":{\n\"x\":[24.0,35.0],\n\"y\":[0.0,264.0]\n},\n\"color\":\"#3ba272\",\n\"sampling\":\"none\",\n\"position\":\"identity\",\n\"geom\":\"line\"\n},{\n\"mapping\":{\n\"x\":\"x\",\n\"y\":\"y\"\n},\n\"stat\":\"identity\",\n\"data\":{\n\"x\":[25.0,35.0],\n\"y\":[0.0,250.0]\n},\n\"color\":\"#3ba272\",\n\"sampling\":\"none\",\n\"position\":\"identity\",\n\"geom\":\"line\"\n},{\n\"mapping\":{\n\"x\":\"x\",\n\"y\":\"y\"\n},\n\"stat\":\"identity\",\n\"data\":{\n\"x\":[26.0,35.0],\n\"y\":[0.0,234.0]\n},\n\"color\":\"#3ba272\",\n\"sampling\":\"none\",\n\"position\":\"identity\",\n\"geom\":\"line\"\n},{\n\"mapping\":{\n\"x\":\"x\",\n\"y\":\"y\"\n},\n\"stat\":\"identity\",\n\"data\":{\n\"x\":[27.0,35.0],\n\"y\":[0.0,216.0]\n},\n\"color\":\"#3ba272\",\n\"sampling\":\"none\",\n\"position\":\"identity\",\n\"geom\":\"line\"\n},{\n\"mapping\":{\n\"x\":\"x\",\n\"y\":\"y\"\n},\n\"stat\":\"identity\",\n\"data\":{\n\"x\":[1.0,35.0],\n\"y\":[0.0,34.0]\n},\n\"color\":\"#a39999\",\n\"sampling\":\"none\",\n\"position\":\"identity\",\n\"geom\":\"line\"\n},{\n\"mapping\":{\n\"x\":\"x\",\n\"y\":\"y\"\n},\n\"stat\":\"identity\",\n\"data\":{\n\"x\":[2.0,35.0],\n\"y\":[0.0,66.0]\n},\n\"color\":\"#a39999\",\n\"sampling\":\"none\",\n\"position\":\"identity\",\n\"geom\":\"line\"\n},{\n\"mapping\":{\n\"x\":\"x\",\n\"y\":\"y\"\n},\n\"stat\":\"identity\",\n\"data\":{\n\"x\":[3.0,35.0],\n\"y\":[0.0,96.0]\n},\n\"color\":\"#a39999\",\n\"sampling\":\"none\",\n\"position\":\"identity\",\n\"geom\":\"line\"\n},{\n\"mapping\":{\n\"x\":\"x\",\n\"y\":\"y\"\n},\n\"stat\":\"identity\",\n\"data\":{\n\"x\":[4.0,35.0],\n\"y\":[0.0,124.0]\n},\n\"color\":\"#a39999\",\n\"sampling\":\"none\",\n\"position\":\"identity\",\n\"geom\":\"line\"\n},{\n\"mapping\":{\n\"x\":\"x\",\n\"y\":\"y\"\n},\n\"stat\":\"identity\",\n\"data\":{\n\"x\":[5.0,35.0],\n\"y\":[0.0,150.0]\n},\n\"color\":\"#a39999\",\n\"sampling\":\"none\",\n\"position\":\"identity\",\n\"geom\":\"line\"\n},{\n\"mapping\":{\n\"x\":\"x\",\n\"y\":\"y\"\n},\n\"stat\":\"identity\",\n\"data\":{\n\"x\":[6.0,35.0],\n\"y\":[0.0,174.0]\n},\n\"color\":\"#a39999\",\n\"sampling\":\"none\",\n\"position\":\"identity\",\n\"geom\":\"line\"\n},{\n\"mapping\":{\n\"x\":\"x\",\n\"y\":\"y\"\n},\n\"stat\":\"identity\",\n\"data\":{\n\"x\":[7.0,35.0],\n\"y\":[0.0,196.0]\n},\n\"color\":\"#a39999\",\n\"sampling\":\"none\",\n\"position\":\"identity\",\n\"geom\":\"line\"\n},{\n\"mapping\":{\n\"x\":\"x\",\n\"y\":\"y\"\n},\n\"stat\":\"identity\",\n\"data\":{\n\"x\":[28.0,35.0],\n\"y\":[0.0,196.0]\n},\n\"color\":\"#a39999\",\n\"sampling\":\"none\",\n\"position\":\"identity\",\n\"geom\":\"line\"\n},{\n\"mapping\":{\n\"x\":\"x\",\n\"y\":\"y\"\n},\n\"stat\":\"identity\",\n\"data\":{\n\"x\":[29.0,35.0],\n\"y\":[0.0,174.0]\n},\n\"color\":\"#a39999\",\n\"sampling\":\"none\",\n\"position\":\"identity\",\n\"geom\":\"line\"\n},{\n\"mapping\":{\n\"x\":\"x\",\n\"y\":\"y\"\n},\n\"stat\":\"identity\",\n\"data\":{\n\"x\":[30.0,35.0],\n\"y\":[0.0,150.0]\n},\n\"color\":\"#a39999\",\n\"sampling\":\"none\",\n\"position\":\"identity\",\n\"geom\":\"line\"\n},{\n\"mapping\":{\n\"x\":\"x\",\n\"y\":\"y\"\n},\n\"stat\":\"identity\",\n\"data\":{\n\"x\":[31.0,35.0],\n\"y\":[0.0,124.0]\n},\n\"color\":\"#a39999\",\n\"sampling\":\"none\",\n\"position\":\"identity\",\n\"geom\":\"line\"\n},{\n\"mapping\":{\n\"x\":\"x\",\n\"y\":\"y\"\n},\n\"stat\":\"identity\",\n\"data\":{\n\"x\":[32.0,35.0],\n\"y\":[0.0,96.0]\n},\n\"color\":\"#a39999\",\n\"sampling\":\"none\",\n\"position\":\"identity\",\n\"geom\":\"line\"\n},{\n\"mapping\":{\n\"x\":\"x\",\n\"y\":\"y\"\n},\n\"stat\":\"identity\",\n\"data\":{\n\"x\":[33.0,35.0],\n\"y\":[0.0,66.0]\n},\n\"color\":\"#a39999\",\n\"sampling\":\"none\",\n\"position\":\"identity\",\n\"geom\":\"line\"\n},{\n\"mapping\":{\n\"x\":\"x\",\n\"y\":\"y\"\n},\n\"stat\":\"identity\",\n\"data\":{\n\"x\":[34.0,35.0],\n\"y\":[0.0,34.0]\n},\n\"color\":\"#a39999\",\n\"sampling\":\"none\",\n\"position\":\"identity\",\n\"geom\":\"line\"\n},{\n\"mapping\":{\n\"x\":\"x\",\n\"y\":\"y\"\n},\n\"stat\":\"identity\",\n\"data\":{\n\"x\":[0.0,0.1,0.2,0.3,0.4,0.5,0.6,0.7,0.8,0.9,1.0,1.1,1.2,1.3,1.4,1.5,1.6,1.7,1.8,1.9,2.0,2.1,2.2,2.3,2.4,2.5,2.6,2.7,2.8,2.9,3.0,3.1,3.2,3.3,3.4,3.5,3.6,3.7,3.8,3.9,4.0,4.1,4.2,4.3,4.4,4.5,4.6,4.7,4.8,4.9,5.0,5.1,5.2,5.3,5.4,5.5,5.6,5.7,5.8,5.9,6.0,6.1,6.2,6.3,6.4,6.5,6.6,6.7,6.8,6.9,7.0,7.1,7.2,7.3,7.4,7.5,7.6,7.7,7.8,7.9,8.0,8.1,8.2,8.3,8.4,8.5,8.6,8.7,8.8,8.9,9.0,9.1,9.2,9.3,9.4,9.5,9.6,9.7,9.8,9.9,10.0,10.1,10.2,10.3,10.4,10.5,10.6,10.7,10.8,10.9,11.0,11.1,11.2,11.3,11.4,11.5,11.6,11.7,11.8,11.9,12.0,12.1,12.2,12.3,12.4,12.5,12.6,12.7,12.8,12.9,13.0,13.1,13.2,13.3,13.4,13.5,13.6,13.7,13.8,13.9,14.0,14.1,14.2,14.3,14.4,14.5,14.6,14.7,14.8,14.9,15.0,15.1,15.2,15.3,15.4,15.5,15.6,15.7,15.8,15.9,16.0,16.1,16.2,16.3,16.4,16.5,16.6,16.7,16.8,16.9,17.0,17.1,17.2,17.3,17.4,17.5,17.6,17.7,17.8,17.9,18.0,18.1,18.2,18.3,18.4,18.5,18.6,18.7,18.8,18.9,19.0,19.1,19.2,19.3,19.4,19.5,19.6,19.7,19.8,19.9,20.0,20.1,20.2,20.3,20.4,20.5,20.6,20.7,20.8,20.9,21.0,21.1,21.2,21.3,21.4,21.5,21.6,21.7,21.8,21.9,22.0,22.1,22.2,22.3,22.4,22.5,22.6,22.7,22.8,22.9,23.0,23.1,23.2,23.3,23.4,23.5,23.6,23.7,23.8,23.9,24.0,24.1,24.2,24.3,24.4,24.5,24.6,24.7,24.8,24.9,25.0,25.1,25.2,25.3,25.4,25.5,25.6,25.7,25.8,25.9,26.0,26.1,26.2,26.3,26.4,26.5,26.6,26.7,26.8,26.9,27.0,27.1,27.2,27.3,27.4,27.5,27.6,27.7,27.8,27.9,28.0,28.1,28.2,28.3,28.4,28.5,28.6,28.7,28.8,28.9,29.0,29.1,29.2,29.3,29.4,29.5,29.6,29.7,29.8,29.9,30.0,30.1,30.2,30.3,30.4,30.5,30.6,30.7,30.8,30.9,31.0,31.1,31.2,31.3,31.4,31.5,31.6,31.7,31.8,31.9,32.0,32.1,32.2,32.3,32.4,32.5,32.6,32.7,32.8,32.9,33.0,33.1,33.2,33.3,33.4,33.5,33.6,33.7,33.8,33.9,34.0,34.1,34.2,34.3,34.4,34.5,34.6,34.7,34.8,34.9,35.0],\n\"y\":[0.0,3.49,6.96,10.41,13.840000000000002,17.25,20.639999999999997,24.009999999999998,27.360000000000003,30.69,34.0,37.29,40.559999999999995,43.81,47.04,50.25,53.44,56.60999999999999,59.760000000000005,62.89,66.0,69.09,72.16,75.21,78.24,81.25,84.24,87.21,90.16,93.09,96.0,98.89,101.76,104.60999999999999,107.44,110.25,113.03999999999999,115.81,118.55999999999999,121.29,124.0,126.68999999999998,129.36,132.01,134.64000000000001,137.25,139.83999999999997,142.41,144.95999999999998,147.49,150.0,152.48999999999998,154.96,157.41,159.84000000000003,162.25,164.64,167.01000000000002,169.35999999999999,171.69000000000003,174.0,176.29,178.56,180.81,183.04000000000002,185.25,187.43999999999997,189.61,191.76,193.89000000000001,196.0,198.08999999999997,200.16,202.20999999999998,204.24,206.25,208.23999999999998,210.21,212.16,214.09000000000003,216.0,217.89,219.76,221.61,223.44000000000003,225.25,227.04,228.80999999999997,230.56,232.29000000000002,234.0,235.68999999999997,237.35999999999999,239.01000000000002,240.64000000000001,242.25,243.83999999999997,245.41,246.96,248.49,250.0,251.48999999999998,252.95999999999998,254.41,255.84000000000003,257.25,258.64,260.01,261.36,262.69,264.0,265.28999999999996,266.56,267.81,269.04,270.25,271.44,272.61,273.76,274.89000000000004,276.0,277.09,278.15999999999997,279.21,280.24,281.25,282.23999999999995,283.21,284.16,285.09000000000003,286.0,286.89,287.76,288.61,289.44000000000005,290.25,291.03999999999996,291.81,292.56,293.29,294.0,294.69,295.36,296.01,296.64000000000004,297.25,297.84,298.40999999999997,298.96,299.49,300.0,300.48999999999995,300.96,301.41,301.84000000000003,302.25,302.64,303.01,303.36,303.69000000000005,304.0,304.29,304.56,304.81,305.04,305.25,305.44,305.61,305.76,305.89,306.0,306.09,306.16,306.21,306.24,306.25,306.24,306.21,306.16,306.09,306.0,305.89,305.76,305.61,305.44,305.25,305.04,304.81,304.56,304.29,304.0,303.69,303.36,303.01,302.64,302.25,301.84,301.41,300.96,300.49,300.0,299.49,298.96,298.40999999999997,297.84000000000003,297.25,296.64,296.01,295.36,294.69,294.0,293.28999999999996,292.56,291.81,291.04,290.25,289.44,288.61,287.76,286.89,286.0,285.09,284.16,283.21,282.24,281.25,280.24,279.21,278.15999999999997,277.09000000000003,276.0,274.89,273.76,272.61,271.44,270.25,269.03999999999996,267.81,266.56,265.29,264.0,262.69,261.36,260.01,258.64000000000004,257.25,255.83999999999997,254.41,252.95999999999998,251.49,250.0,248.48999999999998,246.96,245.41,243.84000000000003,242.25,240.64,239.01000000000002,237.35999999999999,235.69000000000003,234.0,232.28999999999996,230.56,228.80999999999997,227.04000000000002,225.25,223.43999999999997,221.61,219.76,217.89000000000001,216.0,214.08999999999997,212.16000000000003,210.20999999999998,208.24000000000004,206.25,204.23999999999998,202.21,200.16,198.09000000000003,196.0,193.88999999999996,191.76000000000002,189.60999999999999,187.44000000000003,185.25,183.03999999999996,180.81,178.55999999999997,176.29000000000002,174.0,171.68999999999997,169.36,167.01,164.64000000000004,162.25,159.83999999999997,157.41000000000003,154.95999999999998,152.49000000000004,150.0,147.48999999999995,144.96,142.40999999999997,139.84000000000003,137.25,134.63999999999996,132.01000000000002,129.35999999999999,126.69000000000004,124.0,121.28999999999996,118.56000000000002,115.80999999999997,113.04000000000003,110.25,107.43999999999996,104.61000000000001,101.75999999999998,98.89000000000004,96.0,93.08999999999996,90.15999999999991,87.21000000000008,84.24000000000004,81.25,78.23999999999995,75.20999999999991,72.16000000000008,69.09000000000005,66.0,62.88999999999996,59.75999999999991,56.61000000000009,53.44000000000005,50.25,47.03999999999996,43.80999999999991,40.560000000000095,37.29000000000005,34.0,30.68999999999995,27.359999999999904,24.010000000000094,20.640000000000047,17.25,13.839999999999952,10.409999999999902,6.9600000000000986,3.4900000000000495,0.0]\n},\n\"sampling\":\"none\",\n\"position\":\"identity\",\n\"geom\":\"line\"\n},{\n\"mapping\":{\n},\n\"stat\":\"identity\",\n\"yintercept\":213.0,\n\"color\":\"#ee6666\",\n\"linetype\":\"dashed\",\n\"sampling\":\"none\",\n\"position\":\"identity\",\n\"geom\":\"hline\",\n\"data\":{\n}\n}]\n};\n       var plotContainer = document.getElementById(\"OcAVC3\");\n       LetsPlot.buildPlotFromProcessedSpecs(plotSpec, -1, -1, plotContainer);\n   </script>            \n        <svg id=e4900447-3edf-47d0-984d-97ff969e5367 xmlns=\"http://www.w3.org/2000/svg\" xmlns:xlink=\"http://www.w3.org/1999/xlink\" class=\"plt-container\" width=\"600.0\" height=\"400.0\">\n  <style type=\"text/css\">\n  .plt-container {\n   font-family: Lucida Grande, sans-serif;\n   user-select: none;\n   -webkit-user-select: none;\n   -moz-user-select: none;\n   -ms-user-select: none;\n}\ntext {\n   text-rendering: optimizeLegibility;\n}\n#p0iR1IY .plot-title {\n   fill: #474747;\n   font-family: Lucida Grande, sans-serif;\n   font-size: 16.0px;\n   font-weight: normal;\n   font-style: normal;   \n}\n#p0iR1IY .plot-subtitle {\n   fill: #474747;\n   font-family: Lucida Grande, sans-serif;\n   font-size: 15.0px;\n   font-weight: normal;\n   font-style: normal;   \n}\n#p0iR1IY .plot-caption {\n   fill: #474747;\n   font-family: Lucida Grande, sans-serif;\n   font-size: 13.0px;\n   font-weight: normal;\n   font-style: normal;   \n}\n#p0iR1IY .legend-title {\n   fill: #474747;\n   font-family: Lucida Grande, sans-serif;\n   font-size: 15.0px;\n   font-weight: normal;\n   font-style: normal;   \n}\n#p0iR1IY .legend-item {\n   fill: #474747;\n   font-family: Lucida Grande, sans-serif;\n   font-size: 13.0px;\n   font-weight: normal;\n   font-style: normal;   \n}\n#p0iR1IY .axis-title-x {\n   fill: #474747;\n   font-family: Lucida Grande, sans-serif;\n   font-size: 15.0px;\n   font-weight: normal;\n   font-style: normal;   \n}\n#p0iR1IY .axis-text-x {\n   fill: #474747;\n   font-family: Lucida Grande, sans-serif;\n   font-size: 13.0px;\n   font-weight: normal;\n   font-style: normal;   \n}\n#dtljJIw .axis-tooltip-text-x {\n   fill: #ffffff;\n   font-family: Lucida Grande, sans-serif;\n   font-size: 13.0px;\n   font-weight: normal;\n   font-style: normal;   \n}\n#p0iR1IY .axis-title-y {\n   fill: #474747;\n   font-family: Lucida Grande, sans-serif;\n   font-size: 15.0px;\n   font-weight: normal;\n   font-style: normal;   \n}\n#p0iR1IY .axis-text-y {\n   fill: #474747;\n   font-family: Lucida Grande, sans-serif;\n   font-size: 13.0px;\n   font-weight: normal;\n   font-style: normal;   \n}\n#dtljJIw .axis-tooltip-text-y {\n   fill: #ffffff;\n   font-family: Lucida Grande, sans-serif;\n   font-size: 13.0px;\n   font-weight: normal;\n   font-style: normal;   \n}\n#p0iR1IY .facet-strip-text-x {\n   fill: #474747;\n   font-family: Lucida Grande, sans-serif;\n   font-size: 13.0px;\n   font-weight: normal;\n   font-style: normal;   \n}\n#p0iR1IY .facet-strip-text-y {\n   fill: #474747;\n   font-family: Lucida Grande, sans-serif;\n   font-size: 13.0px;\n   font-weight: normal;\n   font-style: normal;   \n}\n#dtljJIw .tooltip-text {\n   fill: #474747;\n   font-family: Lucida Grande, sans-serif;\n   font-size: 13.0px;\n   font-weight: normal;\n   font-style: normal;   \n}\n#dtljJIw .tooltip-title {\n   fill: #474747;\n   font-family: Lucida Grande, sans-serif;\n   font-size: 13.0px;\n   font-weight: bold;\n   font-style: normal;   \n}\n#dtljJIw .tooltip-label {\n   fill: #474747;\n   font-family: Lucida Grande, sans-serif;\n   font-size: 13.0px;\n   font-weight: bold;\n   font-style: normal;   \n}\n\n  </style>\n  <g id=\"p0iR1IY\">\n    <rect x=\"0.0\" y=\"0.0\" height=\"400.0\" width=\"600.0\" stroke=\"rgb(71,71,71)\" stroke-opacity=\"1.0\" stroke-width=\"0.0\" fill=\"rgb(255,255,255)\" fill-opacity=\"1.0\">\n    </rect>\n    <g transform=\"translate(23.0 10.0 ) \">\n      <g transform=\"translate(29.941816366404606 344.0 ) \">\n        <line x1=\"24.41173561970888\" y1=\"-0.0\" x2=\"24.41173561970888\" y2=\"-344.0\" stroke=\"rgb(233,233,233)\" stroke-opacity=\"1.0\" stroke-width=\"1.0\">\n        </line>\n        <line x1=\"94.15955167601997\" y1=\"-0.0\" x2=\"94.15955167601997\" y2=\"-344.0\" stroke=\"rgb(233,233,233)\" stroke-opacity=\"1.0\" stroke-width=\"1.0\">\n        </line>\n        <line x1=\"163.90736773233107\" y1=\"-0.0\" x2=\"163.90736773233107\" y2=\"-344.0\" stroke=\"rgb(233,233,233)\" stroke-opacity=\"1.0\" stroke-width=\"1.0\">\n        </line>\n        <line x1=\"233.65518378864215\" y1=\"-0.0\" x2=\"233.65518378864215\" y2=\"-344.0\" stroke=\"rgb(233,233,233)\" stroke-opacity=\"1.0\" stroke-width=\"1.0\">\n        </line>\n        <line x1=\"303.4029998449533\" y1=\"-0.0\" x2=\"303.4029998449533\" y2=\"-344.0\" stroke=\"rgb(233,233,233)\" stroke-opacity=\"1.0\" stroke-width=\"1.0\">\n        </line>\n        <line x1=\"373.15081590126437\" y1=\"-0.0\" x2=\"373.15081590126437\" y2=\"-344.0\" stroke=\"rgb(233,233,233)\" stroke-opacity=\"1.0\" stroke-width=\"1.0\">\n        </line>\n        <line x1=\"442.89863195757545\" y1=\"-0.0\" x2=\"442.89863195757545\" y2=\"-344.0\" stroke=\"rgb(233,233,233)\" stroke-opacity=\"1.0\" stroke-width=\"1.0\">\n        </line>\n        <line x1=\"512.6464480138865\" y1=\"-0.0\" x2=\"512.6464480138865\" y2=\"-344.0\" stroke=\"rgb(233,233,233)\" stroke-opacity=\"1.0\" stroke-width=\"1.0\">\n        </line>\n        <g transform=\"translate(24.41173561970888 0.0 ) \">\n          <line stroke-width=\"1.0\" stroke=\"rgb(71,71,71)\" stroke-opacity=\"1.0\" x2=\"0.0\" y2=\"4.0\">\n          </line>\n          <g transform=\"translate(0.0 7.0 ) \">\n            <text class=\"axis-text-x\" text-anchor=\"middle\" dy=\"0.7em\">\n            0\n            </text>\n          </g>\n        </g>\n        <g transform=\"translate(94.15955167601997 0.0 ) \">\n          <line stroke-width=\"1.0\" stroke=\"rgb(71,71,71)\" stroke-opacity=\"1.0\" x2=\"0.0\" y2=\"4.0\">\n          </line>\n          <g transform=\"translate(0.0 7.0 ) \">\n            <text class=\"axis-text-x\" text-anchor=\"middle\" dy=\"0.7em\">\n            5\n            </text>\n          </g>\n        </g>\n        <g transform=\"translate(163.90736773233107 0.0 ) \">\n          <line stroke-width=\"1.0\" stroke=\"rgb(71,71,71)\" stroke-opacity=\"1.0\" x2=\"0.0\" y2=\"4.0\">\n          </line>\n          <g transform=\"translate(0.0 7.0 ) \">\n            <text class=\"axis-text-x\" text-anchor=\"middle\" dy=\"0.7em\">\n            10\n            </text>\n          </g>\n        </g>\n        <g transform=\"translate(233.65518378864215 0.0 ) \">\n          <line stroke-width=\"1.0\" stroke=\"rgb(71,71,71)\" stroke-opacity=\"1.0\" x2=\"0.0\" y2=\"4.0\">\n          </line>\n          <g transform=\"translate(0.0 7.0 ) \">\n            <text class=\"axis-text-x\" text-anchor=\"middle\" dy=\"0.7em\">\n            15\n            </text>\n          </g>\n        </g>\n        <g transform=\"translate(303.4029998449533 0.0 ) \">\n          <line stroke-width=\"1.0\" stroke=\"rgb(71,71,71)\" stroke-opacity=\"1.0\" x2=\"0.0\" y2=\"4.0\">\n          </line>\n          <g transform=\"translate(0.0 7.0 ) \">\n            <text class=\"axis-text-x\" text-anchor=\"middle\" dy=\"0.7em\">\n            20\n            </text>\n          </g>\n        </g>\n        <g transform=\"translate(373.15081590126437 0.0 ) \">\n          <line stroke-width=\"1.0\" stroke=\"rgb(71,71,71)\" stroke-opacity=\"1.0\" x2=\"0.0\" y2=\"4.0\">\n          </line>\n          <g transform=\"translate(0.0 7.0 ) \">\n            <text class=\"axis-text-x\" text-anchor=\"middle\" dy=\"0.7em\">\n            25\n            </text>\n          </g>\n        </g>\n        <g transform=\"translate(442.89863195757545 0.0 ) \">\n          <line stroke-width=\"1.0\" stroke=\"rgb(71,71,71)\" stroke-opacity=\"1.0\" x2=\"0.0\" y2=\"4.0\">\n          </line>\n          <g transform=\"translate(0.0 7.0 ) \">\n            <text class=\"axis-text-x\" text-anchor=\"middle\" dy=\"0.7em\">\n            30\n            </text>\n          </g>\n        </g>\n        <g transform=\"translate(512.6464480138865 0.0 ) \">\n          <line stroke-width=\"1.0\" stroke=\"rgb(71,71,71)\" stroke-opacity=\"1.0\" x2=\"0.0\" y2=\"4.0\">\n          </line>\n          <g transform=\"translate(0.0 7.0 ) \">\n            <text class=\"axis-text-x\" text-anchor=\"middle\" dy=\"0.7em\">\n            35\n            </text>\n          </g>\n        </g>\n        <line x1=\"0.0\" y1=\"0.0\" x2=\"537.0581836335954\" y2=\"0.0\" stroke-width=\"1.0\" stroke=\"rgb(71,71,71)\" stroke-opacity=\"1.0\">\n        </line>\n      </g>\n      <g transform=\"translate(29.941816366404606 0.0 ) \">\n        <line x1=\"0.0\" y1=\"328.3636363636364\" x2=\"537.0581836335954\" y2=\"328.3636363636364\" stroke=\"rgb(233,233,233)\" stroke-opacity=\"1.0\" stroke-width=\"1.0\">\n        </line>\n        <line x1=\"0.0\" y1=\"277.3061224489796\" x2=\"537.0581836335954\" y2=\"277.3061224489796\" stroke=\"rgb(233,233,233)\" stroke-opacity=\"1.0\" stroke-width=\"1.0\">\n        </line>\n        <line x1=\"0.0\" y1=\"226.24860853432284\" x2=\"537.0581836335954\" y2=\"226.24860853432284\" stroke=\"rgb(233,233,233)\" stroke-opacity=\"1.0\" stroke-width=\"1.0\">\n        </line>\n        <line x1=\"0.0\" y1=\"175.19109461966605\" x2=\"537.0581836335954\" y2=\"175.19109461966605\" stroke=\"rgb(233,233,233)\" stroke-opacity=\"1.0\" stroke-width=\"1.0\">\n        </line>\n        <line x1=\"0.0\" y1=\"124.13358070500928\" x2=\"537.0581836335954\" y2=\"124.13358070500928\" stroke=\"rgb(233,233,233)\" stroke-opacity=\"1.0\" stroke-width=\"1.0\">\n        </line>\n        <line x1=\"0.0\" y1=\"73.07606679035251\" x2=\"537.0581836335954\" y2=\"73.07606679035251\" stroke=\"rgb(233,233,233)\" stroke-opacity=\"1.0\" stroke-width=\"1.0\">\n        </line>\n        <line x1=\"0.0\" y1=\"22.01855287569572\" x2=\"537.0581836335954\" y2=\"22.01855287569572\" stroke=\"rgb(233,233,233)\" stroke-opacity=\"1.0\" stroke-width=\"1.0\">\n        </line>\n        <g transform=\"translate(0.0 328.3636363636364 ) \">\n          <g transform=\"translate(-3.0 0.0 ) \">\n            <text class=\"axis-text-y\" text-anchor=\"end\" dy=\"0.35em\">\n            0\n            </text>\n          </g>\n        </g>\n        <g transform=\"translate(0.0 277.3061224489796 ) \">\n          <g transform=\"translate(-3.0 0.0 ) \">\n            <text class=\"axis-text-y\" text-anchor=\"end\" dy=\"0.35em\">\n            50\n            </text>\n          </g>\n        </g>\n        <g transform=\"translate(0.0 226.24860853432284 ) \">\n          <g transform=\"translate(-3.0 0.0 ) \">\n            <text class=\"axis-text-y\" text-anchor=\"end\" dy=\"0.35em\">\n            100\n            </text>\n          </g>\n        </g>\n        <g transform=\"translate(0.0 175.19109461966605 ) \">\n          <g transform=\"translate(-3.0 0.0 ) \">\n            <text class=\"axis-text-y\" text-anchor=\"end\" dy=\"0.35em\">\n            150\n            </text>\n          </g>\n        </g>\n        <g transform=\"translate(0.0 124.13358070500928 ) \">\n          <g transform=\"translate(-3.0 0.0 ) \">\n            <text class=\"axis-text-y\" text-anchor=\"end\" dy=\"0.35em\">\n            200\n            </text>\n          </g>\n        </g>\n        <g transform=\"translate(0.0 73.07606679035251 ) \">\n          <g transform=\"translate(-3.0 0.0 ) \">\n            <text class=\"axis-text-y\" text-anchor=\"end\" dy=\"0.35em\">\n            250\n            </text>\n          </g>\n        </g>\n        <g transform=\"translate(0.0 22.01855287569572 ) \">\n          <g transform=\"translate(-3.0 0.0 ) \">\n            <text class=\"axis-text-y\" text-anchor=\"end\" dy=\"0.35em\">\n            300\n            </text>\n          </g>\n        </g>\n      </g>\n      <g transform=\"translate(29.941816366404606 0.0 ) \" clip-path=\"url(#cOihieI)\" clip-bounds-jfx=\"[rect (0.0, 0.0), (537.0581836335954, 344.0)]\">\n        <defs>\n          <clipPath id=\"cOihieI\">\n            <rect x=\"0.0\" y=\"0.0\" width=\"537.0581836335954\" height=\"344.0\">\n            </rect>\n          </clipPath>\n        </defs>\n        <g>\n          <path d=\"M136.00824130980664 328.3636363636364 L136.00824130980664 328.3636363636364 L512.6464480138865 107.79517625231912 \" fill=\"none\" stroke-width=\"1.0\" stroke=\"rgb(59,162,114)\" stroke-opacity=\"1.0\">\n          </path>\n        </g>\n      </g>\n      <g transform=\"translate(29.941816366404606 0.0 ) \" clip-path=\"url(#cqKLqAo)\" clip-bounds-jfx=\"[rect (0.0, 0.0), (537.0581836335954, 344.0)]\">\n        <defs>\n          <clipPath id=\"cqKLqAo\">\n            <rect x=\"0.0\" y=\"0.0\" width=\"537.0581836335954\" height=\"344.0\">\n            </rect>\n          </clipPath>\n        </defs>\n        <g>\n          <path d=\"M149.95780452106885 328.3636363636364 L149.95780452106885 328.3636363636364 L512.6464480138865 89.4144712430427 \" fill=\"none\" stroke-width=\"1.0\" stroke=\"rgb(59,162,114)\" stroke-opacity=\"1.0\">\n          </path>\n        </g>\n      </g>\n      <g transform=\"translate(29.941816366404606 0.0 ) \" clip-path=\"url(#cUKulPX)\" clip-bounds-jfx=\"[rect (0.0, 0.0), (537.0581836335954, 344.0)]\">\n        <defs>\n          <clipPath id=\"cUKulPX\">\n            <rect x=\"0.0\" y=\"0.0\" width=\"537.0581836335954\" height=\"344.0\">\n            </rect>\n          </clipPath>\n        </defs>\n        <g>\n          <path d=\"M163.90736773233107 328.3636363636364 L163.90736773233107 328.3636363636364 L512.6464480138865 73.07606679035251 \" fill=\"none\" stroke-width=\"1.0\" stroke=\"rgb(59,162,114)\" stroke-opacity=\"1.0\">\n          </path>\n        </g>\n      </g>\n      <g transform=\"translate(29.941816366404606 0.0 ) \" clip-path=\"url(#cjSaZgp)\" clip-bounds-jfx=\"[rect (0.0, 0.0), (537.0581836335954, 344.0)]\">\n        <defs>\n          <clipPath id=\"cjSaZgp\">\n            <rect x=\"0.0\" y=\"0.0\" width=\"537.0581836335954\" height=\"344.0\">\n            </rect>\n          </clipPath>\n        </defs>\n        <g>\n          <path d=\"M177.85693094359328 328.3636363636364 L177.85693094359328 328.3636363636364 L512.6464480138865 58.77996289424863 \" fill=\"none\" stroke-width=\"1.0\" stroke=\"rgb(59,162,114)\" stroke-opacity=\"1.0\">\n          </path>\n        </g>\n      </g>\n      <g transform=\"translate(29.941816366404606 0.0 ) \" clip-path=\"url(#c4L3hKx)\" clip-bounds-jfx=\"[rect (0.0, 0.0), (537.0581836335954, 344.0)]\">\n        <defs>\n          <clipPath id=\"c4L3hKx\">\n            <rect x=\"0.0\" y=\"0.0\" width=\"537.0581836335954\" height=\"344.0\">\n            </rect>\n          </clipPath>\n        </defs>\n        <g>\n          <path d=\"M191.8064941548555 328.3636363636364 L191.8064941548555 328.3636363636364 L512.6464480138865 46.52615955473101 \" fill=\"none\" stroke-width=\"1.0\" stroke=\"rgb(59,162,114)\" stroke-opacity=\"1.0\">\n          </path>\n        </g>\n      </g>\n      <g transform=\"translate(29.941816366404606 0.0 ) \" clip-path=\"url(#c8FXUG9)\" clip-bounds-jfx=\"[rect (0.0, 0.0), (537.0581836335954, 344.0)]\">\n        <defs>\n          <clipPath id=\"c8FXUG9\">\n            <rect x=\"0.0\" y=\"0.0\" width=\"537.0581836335954\" height=\"344.0\">\n            </rect>\n          </clipPath>\n        </defs>\n        <g>\n          <path d=\"M205.75605736611772 328.3636363636364 L205.75605736611772 328.3636363636364 L512.6464480138865 36.31465677179966 \" fill=\"none\" stroke-width=\"1.0\" stroke=\"rgb(59,162,114)\" stroke-opacity=\"1.0\">\n          </path>\n        </g>\n      </g>\n      <g transform=\"translate(29.941816366404606 0.0 ) \" clip-path=\"url(#cXZ6fut)\" clip-bounds-jfx=\"[rect (0.0, 0.0), (537.0581836335954, 344.0)]\">\n        <defs>\n          <clipPath id=\"cXZ6fut\">\n            <rect x=\"0.0\" y=\"0.0\" width=\"537.0581836335954\" height=\"344.0\">\n            </rect>\n          </clipPath>\n        </defs>\n        <g>\n          <path d=\"M219.70562057737993 328.3636363636364 L219.70562057737993 328.3636363636364 L512.6464480138865 28.145454545454584 \" fill=\"none\" stroke-width=\"1.0\" stroke=\"rgb(59,162,114)\" stroke-opacity=\"1.0\">\n          </path>\n        </g>\n      </g>\n      <g transform=\"translate(29.941816366404606 0.0 ) \" clip-path=\"url(#cCxc63U)\" clip-bounds-jfx=\"[rect (0.0, 0.0), (537.0581836335954, 344.0)]\">\n        <defs>\n          <clipPath id=\"cCxc63U\">\n            <rect x=\"0.0\" y=\"0.0\" width=\"537.0581836335954\" height=\"344.0\">\n            </rect>\n          </clipPath>\n        </defs>\n        <g>\n          <path d=\"M233.65518378864215 328.3636363636364 L233.65518378864215 328.3636363636364 L512.6464480138865 22.01855287569572 \" fill=\"none\" stroke-width=\"1.0\" stroke=\"rgb(59,162,114)\" stroke-opacity=\"1.0\">\n          </path>\n        </g>\n      </g>\n      <g transform=\"translate(29.941816366404606 0.0 ) \" clip-path=\"url(#cSfmyzy)\" clip-bounds-jfx=\"[rect (0.0, 0.0), (537.0581836335954, 344.0)]\">\n        <defs>\n          <clipPath id=\"cSfmyzy\">\n            <rect x=\"0.0\" y=\"0.0\" width=\"537.0581836335954\" height=\"344.0\">\n            </rect>\n          </clipPath>\n        </defs>\n        <g>\n          <path d=\"M247.60474699990436 328.3636363636364 L247.60474699990436 328.3636363636364 L512.6464480138865 17.93395176252318 \" fill=\"none\" stroke-width=\"1.0\" stroke=\"rgb(59,162,114)\" stroke-opacity=\"1.0\">\n          </path>\n        </g>\n      </g>\n      <g transform=\"translate(29.941816366404606 0.0 ) \" clip-path=\"url(#cTEVry8)\" clip-bounds-jfx=\"[rect (0.0, 0.0), (537.0581836335954, 344.0)]\">\n        <defs>\n          <clipPath id=\"cTEVry8\">\n            <rect x=\"0.0\" y=\"0.0\" width=\"537.0581836335954\" height=\"344.0\">\n            </rect>\n          </clipPath>\n        </defs>\n        <g>\n          <path d=\"M261.5543102111666 328.3636363636364 L261.5543102111666 328.3636363636364 L512.6464480138865 15.89165120593691 \" fill=\"none\" stroke-width=\"1.0\" stroke=\"rgb(59,162,114)\" stroke-opacity=\"1.0\">\n          </path>\n        </g>\n      </g>\n      <g transform=\"translate(29.941816366404606 0.0 ) \" clip-path=\"url(#c7z5fWA)\" clip-bounds-jfx=\"[rect (0.0, 0.0), (537.0581836335954, 344.0)]\">\n        <defs>\n          <clipPath id=\"c7z5fWA\">\n            <rect x=\"0.0\" y=\"0.0\" width=\"537.0581836335954\" height=\"344.0\">\n            </rect>\n          </clipPath>\n        </defs>\n        <g>\n          <path d=\"M275.5038734224288 328.3636363636364 L275.5038734224288 328.3636363636364 L512.6464480138865 15.89165120593691 \" fill=\"none\" stroke-width=\"1.0\" stroke=\"rgb(59,162,114)\" stroke-opacity=\"1.0\">\n          </path>\n        </g>\n      </g>\n      <g transform=\"translate(29.941816366404606 0.0 ) \" clip-path=\"url(#cDCoU3N)\" clip-bounds-jfx=\"[rect (0.0, 0.0), (537.0581836335954, 344.0)]\">\n        <defs>\n          <clipPath id=\"cDCoU3N\">\n            <rect x=\"0.0\" y=\"0.0\" width=\"537.0581836335954\" height=\"344.0\">\n            </rect>\n          </clipPath>\n        </defs>\n        <g>\n          <path d=\"M289.45343663369107 328.3636363636364 L289.45343663369107 328.3636363636364 L512.6464480138865 17.93395176252318 \" fill=\"none\" stroke-width=\"1.0\" stroke=\"rgb(59,162,114)\" stroke-opacity=\"1.0\">\n          </path>\n        </g>\n      </g>\n      <g transform=\"translate(29.941816366404606 0.0 ) \" clip-path=\"url(#cDKlkO8)\" clip-bounds-jfx=\"[rect (0.0, 0.0), (537.0581836335954, 344.0)]\">\n        <defs>\n          <clipPath id=\"cDKlkO8\">\n            <rect x=\"0.0\" y=\"0.0\" width=\"537.0581836335954\" height=\"344.0\">\n            </rect>\n          </clipPath>\n        </defs>\n        <g>\n          <path d=\"M303.4029998449533 328.3636363636364 L303.4029998449533 328.3636363636364 L512.6464480138865 22.01855287569572 \" fill=\"none\" stroke-width=\"1.0\" stroke=\"rgb(59,162,114)\" stroke-opacity=\"1.0\">\n          </path>\n        </g>\n      </g>\n      <g transform=\"translate(29.941816366404606 0.0 ) \" clip-path=\"url(#c75UCW5)\" clip-bounds-jfx=\"[rect (0.0, 0.0), (537.0581836335954, 344.0)]\">\n        <defs>\n          <clipPath id=\"c75UCW5\">\n            <rect x=\"0.0\" y=\"0.0\" width=\"537.0581836335954\" height=\"344.0\">\n            </rect>\n          </clipPath>\n        </defs>\n        <g>\n          <path d=\"M317.3525630562155 328.3636363636364 L317.3525630562155 328.3636363636364 L512.6464480138865 28.145454545454584 \" fill=\"none\" stroke-width=\"1.0\" stroke=\"rgb(59,162,114)\" stroke-opacity=\"1.0\">\n          </path>\n        </g>\n      </g>\n      <g transform=\"translate(29.941816366404606 0.0 ) \" clip-path=\"url(#ckxqjfw)\" clip-bounds-jfx=\"[rect (0.0, 0.0), (537.0581836335954, 344.0)]\">\n        <defs>\n          <clipPath id=\"ckxqjfw\">\n            <rect x=\"0.0\" y=\"0.0\" width=\"537.0581836335954\" height=\"344.0\">\n            </rect>\n          </clipPath>\n        </defs>\n        <g>\n          <path d=\"M331.3021262674777 328.3636363636364 L331.3021262674777 328.3636363636364 L512.6464480138865 36.31465677179966 \" fill=\"none\" stroke-width=\"1.0\" stroke=\"rgb(59,162,114)\" stroke-opacity=\"1.0\">\n          </path>\n        </g>\n      </g>\n      <g transform=\"translate(29.941816366404606 0.0 ) \" clip-path=\"url(#ce0pQm0)\" clip-bounds-jfx=\"[rect (0.0, 0.0), (537.0581836335954, 344.0)]\">\n        <defs>\n          <clipPath id=\"ce0pQm0\">\n            <rect x=\"0.0\" y=\"0.0\" width=\"537.0581836335954\" height=\"344.0\">\n            </rect>\n          </clipPath>\n        </defs>\n        <g>\n          <path d=\"M345.25168947873993 328.3636363636364 L345.25168947873993 328.3636363636364 L512.6464480138865 46.52615955473101 \" fill=\"none\" stroke-width=\"1.0\" stroke=\"rgb(59,162,114)\" stroke-opacity=\"1.0\">\n          </path>\n        </g>\n      </g>\n      <g transform=\"translate(29.941816366404606 0.0 ) \" clip-path=\"url(#cORMa81)\" clip-bounds-jfx=\"[rect (0.0, 0.0), (537.0581836335954, 344.0)]\">\n        <defs>\n          <clipPath id=\"cORMa81\">\n            <rect x=\"0.0\" y=\"0.0\" width=\"537.0581836335954\" height=\"344.0\">\n            </rect>\n          </clipPath>\n        </defs>\n        <g>\n          <path d=\"M359.20125269000215 328.3636363636364 L359.20125269000215 328.3636363636364 L512.6464480138865 58.77996289424863 \" fill=\"none\" stroke-width=\"1.0\" stroke=\"rgb(59,162,114)\" stroke-opacity=\"1.0\">\n          </path>\n        </g>\n      </g>\n      <g transform=\"translate(29.941816366404606 0.0 ) \" clip-path=\"url(#c2PXjGj)\" clip-bounds-jfx=\"[rect (0.0, 0.0), (537.0581836335954, 344.0)]\">\n        <defs>\n          <clipPath id=\"c2PXjGj\">\n            <rect x=\"0.0\" y=\"0.0\" width=\"537.0581836335954\" height=\"344.0\">\n            </rect>\n          </clipPath>\n        </defs>\n        <g>\n          <path d=\"M373.15081590126437 328.3636363636364 L373.15081590126437 328.3636363636364 L512.6464480138865 73.07606679035251 \" fill=\"none\" stroke-width=\"1.0\" stroke=\"rgb(59,162,114)\" stroke-opacity=\"1.0\">\n          </path>\n        </g>\n      </g>\n      <g transform=\"translate(29.941816366404606 0.0 ) \" clip-path=\"url(#c7cEhbU)\" clip-bounds-jfx=\"[rect (0.0, 0.0), (537.0581836335954, 344.0)]\">\n        <defs>\n          <clipPath id=\"c7cEhbU\">\n            <rect x=\"0.0\" y=\"0.0\" width=\"537.0581836335954\" height=\"344.0\">\n            </rect>\n          </clipPath>\n        </defs>\n        <g>\n          <path d=\"M387.1003791125266 328.3636363636364 L387.1003791125266 328.3636363636364 L512.6464480138865 89.4144712430427 \" fill=\"none\" stroke-width=\"1.0\" stroke=\"rgb(59,162,114)\" stroke-opacity=\"1.0\">\n          </path>\n        </g>\n      </g>\n      <g transform=\"translate(29.941816366404606 0.0 ) \" clip-path=\"url(#cM7TEP9)\" clip-bounds-jfx=\"[rect (0.0, 0.0), (537.0581836335954, 344.0)]\">\n        <defs>\n          <clipPath id=\"cM7TEP9\">\n            <rect x=\"0.0\" y=\"0.0\" width=\"537.0581836335954\" height=\"344.0\">\n            </rect>\n          </clipPath>\n        </defs>\n        <g>\n          <path d=\"M401.0499423237888 328.3636363636364 L401.0499423237888 328.3636363636364 L512.6464480138865 107.79517625231912 \" fill=\"none\" stroke-width=\"1.0\" stroke=\"rgb(59,162,114)\" stroke-opacity=\"1.0\">\n          </path>\n        </g>\n      </g>\n      <g transform=\"translate(29.941816366404606 0.0 ) \" clip-path=\"url(#cwzcWiR)\" clip-bounds-jfx=\"[rect (0.0, 0.0), (537.0581836335954, 344.0)]\">\n        <defs>\n          <clipPath id=\"cwzcWiR\">\n            <rect x=\"0.0\" y=\"0.0\" width=\"537.0581836335954\" height=\"344.0\">\n            </rect>\n          </clipPath>\n        </defs>\n        <g>\n          <path d=\"M38.3612988309711 328.3636363636364 L38.3612988309711 328.3636363636364 L512.6464480138865 293.6445269016698 \" fill=\"none\" stroke-width=\"1.0\" stroke=\"rgb(163,153,153)\" stroke-opacity=\"1.0\">\n          </path>\n        </g>\n      </g>\n      <g transform=\"translate(29.941816366404606 0.0 ) \" clip-path=\"url(#crTDxiA)\" clip-bounds-jfx=\"[rect (0.0, 0.0), (537.0581836335954, 344.0)]\">\n        <defs>\n          <clipPath id=\"crTDxiA\">\n            <rect x=\"0.0\" y=\"0.0\" width=\"537.0581836335954\" height=\"344.0\">\n            </rect>\n          </clipPath>\n        </defs>\n        <g>\n          <path d=\"M52.31086204223332 328.3636363636364 L52.31086204223332 328.3636363636364 L512.6464480138865 260.9677179962894 \" fill=\"none\" stroke-width=\"1.0\" stroke=\"rgb(163,153,153)\" stroke-opacity=\"1.0\">\n          </path>\n        </g>\n      </g>\n      <g transform=\"translate(29.941816366404606 0.0 ) \" clip-path=\"url(#cVicV63)\" clip-bounds-jfx=\"[rect (0.0, 0.0), (537.0581836335954, 344.0)]\">\n        <defs>\n          <clipPath id=\"cVicV63\">\n            <rect x=\"0.0\" y=\"0.0\" width=\"537.0581836335954\" height=\"344.0\">\n            </rect>\n          </clipPath>\n        </defs>\n        <g>\n          <path d=\"M66.26042525349554 328.3636363636364 L66.26042525349554 328.3636363636364 L512.6464480138865 230.33320964749538 \" fill=\"none\" stroke-width=\"1.0\" stroke=\"rgb(163,153,153)\" stroke-opacity=\"1.0\">\n          </path>\n        </g>\n      </g>\n      <g transform=\"translate(29.941816366404606 0.0 ) \" clip-path=\"url(#cELUDdh)\" clip-bounds-jfx=\"[rect (0.0, 0.0), (537.0581836335954, 344.0)]\">\n        <defs>\n          <clipPath id=\"cELUDdh\">\n            <rect x=\"0.0\" y=\"0.0\" width=\"537.0581836335954\" height=\"344.0\">\n            </rect>\n          </clipPath>\n        </defs>\n        <g>\n          <path d=\"M80.20998846475776 328.3636363636364 L80.20998846475776 328.3636363636364 L512.6464480138865 201.74100185528758 \" fill=\"none\" stroke-width=\"1.0\" stroke=\"rgb(163,153,153)\" stroke-opacity=\"1.0\">\n          </path>\n        </g>\n      </g>\n      <g transform=\"translate(29.941816366404606 0.0 ) \" clip-path=\"url(#cSwmd4B)\" clip-bounds-jfx=\"[rect (0.0, 0.0), (537.0581836335954, 344.0)]\">\n        <defs>\n          <clipPath id=\"cSwmd4B\">\n            <rect x=\"0.0\" y=\"0.0\" width=\"537.0581836335954\" height=\"344.0\">\n            </rect>\n          </clipPath>\n        </defs>\n        <g>\n          <path d=\"M94.15955167601997 328.3636363636364 L94.15955167601997 328.3636363636364 L512.6464480138865 175.19109461966605 \" fill=\"none\" stroke-width=\"1.0\" stroke=\"rgb(163,153,153)\" stroke-opacity=\"1.0\">\n          </path>\n        </g>\n      </g>\n      <g transform=\"translate(29.941816366404606 0.0 ) \" clip-path=\"url(#cay0LX1)\" clip-bounds-jfx=\"[rect (0.0, 0.0), (537.0581836335954, 344.0)]\">\n        <defs>\n          <clipPath id=\"cay0LX1\">\n            <rect x=\"0.0\" y=\"0.0\" width=\"537.0581836335954\" height=\"344.0\">\n            </rect>\n          </clipPath>\n        </defs>\n        <g>\n          <path d=\"M108.10911488728219 328.3636363636364 L108.10911488728219 328.3636363636364 L512.6464480138865 150.6834879406308 \" fill=\"none\" stroke-width=\"1.0\" stroke=\"rgb(163,153,153)\" stroke-opacity=\"1.0\">\n          </path>\n        </g>\n      </g>\n      <g transform=\"translate(29.941816366404606 0.0 ) \" clip-path=\"url(#caoz9mm)\" clip-bounds-jfx=\"[rect (0.0, 0.0), (537.0581836335954, 344.0)]\">\n        <defs>\n          <clipPath id=\"caoz9mm\">\n            <rect x=\"0.0\" y=\"0.0\" width=\"537.0581836335954\" height=\"344.0\">\n            </rect>\n          </clipPath>\n        </defs>\n        <g>\n          <path d=\"M122.0586780985444 328.3636363636364 L122.0586780985444 328.3636363636364 L512.6464480138865 128.21818181818182 \" fill=\"none\" stroke-width=\"1.0\" stroke=\"rgb(163,153,153)\" stroke-opacity=\"1.0\">\n          </path>\n        </g>\n      </g>\n      <g transform=\"translate(29.941816366404606 0.0 ) \" clip-path=\"url(#cSqg7Hl)\" clip-bounds-jfx=\"[rect (0.0, 0.0), (537.0581836335954, 344.0)]\">\n        <defs>\n          <clipPath id=\"cSqg7Hl\">\n            <rect x=\"0.0\" y=\"0.0\" width=\"537.0581836335954\" height=\"344.0\">\n            </rect>\n          </clipPath>\n        </defs>\n        <g>\n          <path d=\"M414.999505535051 328.3636363636364 L414.999505535051 328.3636363636364 L512.6464480138865 128.21818181818182 \" fill=\"none\" stroke-width=\"1.0\" stroke=\"rgb(163,153,153)\" stroke-opacity=\"1.0\">\n          </path>\n        </g>\n      </g>\n      <g transform=\"translate(29.941816366404606 0.0 ) \" clip-path=\"url(#cGyBdNN)\" clip-bounds-jfx=\"[rect (0.0, 0.0), (537.0581836335954, 344.0)]\">\n        <defs>\n          <clipPath id=\"cGyBdNN\">\n            <rect x=\"0.0\" y=\"0.0\" width=\"537.0581836335954\" height=\"344.0\">\n            </rect>\n          </clipPath>\n        </defs>\n        <g>\n          <path d=\"M428.94906874631323 328.3636363636364 L428.94906874631323 328.3636363636364 L512.6464480138865 150.6834879406308 \" fill=\"none\" stroke-width=\"1.0\" stroke=\"rgb(163,153,153)\" stroke-opacity=\"1.0\">\n          </path>\n        </g>\n      </g>\n      <g transform=\"translate(29.941816366404606 0.0 ) \" clip-path=\"url(#cwC3jDc)\" clip-bounds-jfx=\"[rect (0.0, 0.0), (537.0581836335954, 344.0)]\">\n        <defs>\n          <clipPath id=\"cwC3jDc\">\n            <rect x=\"0.0\" y=\"0.0\" width=\"537.0581836335954\" height=\"344.0\">\n            </rect>\n          </clipPath>\n        </defs>\n        <g>\n          <path d=\"M442.89863195757545 328.3636363636364 L442.89863195757545 328.3636363636364 L512.6464480138865 175.19109461966605 \" fill=\"none\" stroke-width=\"1.0\" stroke=\"rgb(163,153,153)\" stroke-opacity=\"1.0\">\n          </path>\n        </g>\n      </g>\n      <g transform=\"translate(29.941816366404606 0.0 ) \" clip-path=\"url(#c7zDows)\" clip-bounds-jfx=\"[rect (0.0, 0.0), (537.0581836335954, 344.0)]\">\n        <defs>\n          <clipPath id=\"c7zDows\">\n            <rect x=\"0.0\" y=\"0.0\" width=\"537.0581836335954\" height=\"344.0\">\n            </rect>\n          </clipPath>\n        </defs>\n        <g>\n          <path d=\"M456.84819516883766 328.3636363636364 L456.84819516883766 328.3636363636364 L512.6464480138865 201.74100185528758 \" fill=\"none\" stroke-width=\"1.0\" stroke=\"rgb(163,153,153)\" stroke-opacity=\"1.0\">\n          </path>\n        </g>\n      </g>\n      <g transform=\"translate(29.941816366404606 0.0 ) \" clip-path=\"url(#ceekMsK)\" clip-bounds-jfx=\"[rect (0.0, 0.0), (537.0581836335954, 344.0)]\">\n        <defs>\n          <clipPath id=\"ceekMsK\">\n            <rect x=\"0.0\" y=\"0.0\" width=\"537.0581836335954\" height=\"344.0\">\n            </rect>\n          </clipPath>\n        </defs>\n        <g>\n          <path d=\"M470.7977583800999 328.3636363636364 L470.7977583800999 328.3636363636364 L512.6464480138865 230.33320964749538 \" fill=\"none\" stroke-width=\"1.0\" stroke=\"rgb(163,153,153)\" stroke-opacity=\"1.0\">\n          </path>\n        </g>\n      </g>\n      <g transform=\"translate(29.941816366404606 0.0 ) \" clip-path=\"url(#cqT77T9)\" clip-bounds-jfx=\"[rect (0.0, 0.0), (537.0581836335954, 344.0)]\">\n        <defs>\n          <clipPath id=\"cqT77T9\">\n            <rect x=\"0.0\" y=\"0.0\" width=\"537.0581836335954\" height=\"344.0\">\n            </rect>\n          </clipPath>\n        </defs>\n        <g>\n          <path d=\"M484.7473215913621 328.3636363636364 L484.7473215913621 328.3636363636364 L512.6464480138865 260.9677179962894 \" fill=\"none\" stroke-width=\"1.0\" stroke=\"rgb(163,153,153)\" stroke-opacity=\"1.0\">\n          </path>\n        </g>\n      </g>\n      <g transform=\"translate(29.941816366404606 0.0 ) \" clip-path=\"url(#cV1iZ9D)\" clip-bounds-jfx=\"[rect (0.0, 0.0), (537.0581836335954, 344.0)]\">\n        <defs>\n          <clipPath id=\"cV1iZ9D\">\n            <rect x=\"0.0\" y=\"0.0\" width=\"537.0581836335954\" height=\"344.0\">\n            </rect>\n          </clipPath>\n        </defs>\n        <g>\n          <path d=\"M498.6968848026243 328.3636363636364 L498.6968848026243 328.3636363636364 L512.6464480138865 293.6445269016698 \" fill=\"none\" stroke-width=\"1.0\" stroke=\"rgb(163,153,153)\" stroke-opacity=\"1.0\">\n          </path>\n        </g>\n      </g>\n      <g transform=\"translate(29.941816366404606 0.0 ) \" clip-path=\"url(#cYlOz7E)\" clip-bounds-jfx=\"[rect (0.0, 0.0), (537.0581836335954, 344.0)]\">\n        <defs>\n          <clipPath id=\"cYlOz7E\">\n            <rect x=\"0.0\" y=\"0.0\" width=\"537.0581836335954\" height=\"344.0\">\n            </rect>\n          </clipPath>\n        </defs>\n        <g>\n          <path d=\"M24.41173561970888 328.3636363636364 L24.41173561970888 328.3636363636364 L25.806691940835105 324.7998218923933 L27.201648261961324 321.2564304267162 L28.596604583087547 317.7334619666048 L29.99156090421377 314.23091651205937 L31.38651722533999 310.7487940630798 L32.781473546466216 307.28709461966605 L34.17642986759243 303.8458181818182 L35.571386188718655 300.4249647495362 L36.96634250984488 297.02453432282005 L38.3612988309711 293.6445269016698 L39.756255152097324 290.28494248608536 L41.15121147322354 286.9457810760668 L42.54616779434977 283.6270426716141 L43.941124115475986 280.3287272727273 L45.33608043660221 277.0508348794063 L46.73103675772843 273.79336549165123 L48.12599307885465 270.556319109462 L49.52094939998088 267.3396957328386 L50.915905721107094 264.1434953617811 L52.31086204223332 260.9677179962894 L53.70581836335954 257.81236363636367 L55.10077468448576 254.67743228200374 L56.49573100561199 251.56292393320967 L57.8906873267382 248.46883858998146 L59.28564364786443 245.39517625231912 L60.68059996899065 242.34193692022265 L62.07555629011688 239.30912059369206 L63.470512611243095 236.29672727272728 L64.86546893236931 233.30475695732838 L66.26042525349554 230.33320964749538 L67.65538157462176 227.3820853432282 L69.05033789574799 224.4513840445269 L70.4452942168742 221.5411057513915 L71.84025053800042 218.6512504638219 L73.23520685912665 215.7818181818182 L74.63016318025286 212.93280890538034 L76.0251195013791 210.10422263450835 L77.42007582250531 207.29605936920225 L78.81503214363153 204.50831910946198 L80.20998846475776 201.74100185528758 L81.60494478588397 198.99410760667905 L82.9999011070102 196.26763636363637 L84.39485742813642 193.56158812615956 L85.78981374926265 190.8759628942486 L87.18477007038886 188.21076066790354 L88.57972639151508 185.56598144712433 L89.97468271264131 182.94162523191096 L91.36963903376753 180.3376920222635 L92.76459535489376 177.75418181818182 L94.15955167601997 175.19109461966605 L95.55450799714619 172.64843042671617 L96.94946431827242 170.1261892393321 L98.34442063939863 167.62437105751394 L99.73937696052487 165.14297588126158 L101.13433328165108 162.68200371057515 L102.5292896027773 160.24145454545456 L103.92424592390353 157.82132838589982 L105.31920224502974 155.42162523191098 L106.71415856615597 153.04234508348793 L108.10911488728219 150.6834879406308 L109.5040712084084 148.34505380333954 L110.89902752953464 146.0270426716141 L112.29398385066085 143.72945454545456 L113.68894017178708 141.45228942486085 L115.0838964929133 139.19554730983305 L116.47885281403951 136.95922820037111 L117.87380913516574 134.74333209647494 L119.26876545629196 132.54785899814473 L120.66372177741819 130.37280890538034 L122.0586780985444 128.21818181818182 L123.45363441967062 126.0839777365492 L124.84859074079685 123.9701966604824 L126.24354706192307 121.87683858998147 L127.6385033830493 119.8039035250464 L129.03345970417553 117.75139146567719 L130.42841602530174 115.71930241187388 L131.82337234642796 113.70763636363637 L133.21832866755418 111.71639332096476 L134.61328498868042 109.74557328385899 L136.00824130980664 107.79517625231912 L137.40319763093285 105.8652022263451 L138.79815395205907 103.95565120593693 L140.1931102731853 102.06652319109463 L141.58806659431153 100.19781818181818 L142.98302291543774 98.34953617810763 L144.37797923656396 96.52167717996292 L145.77293555769018 94.71424118738409 L147.16789187881642 92.92722820037108 L148.56284819994264 91.16063821892394 L149.95780452106885 89.4144712430427 L151.35276084219507 87.6887272727273 L152.74771716332128 85.98340630797776 L154.14267348444753 84.29850834879406 L155.53762980557374 82.63403339517626 L156.93258612669996 80.98998144712431 L158.32754244782618 79.36635250463826 L159.7224987689524 77.76314656771802 L161.11745509007864 76.18036363636364 L162.51241141120485 74.61800371057515 L163.90736773233107 73.07606679035251 L165.30232405345728 71.55455287569578 L166.6972803745835 70.05346196660486 L168.09223669570974 68.57279406307981 L169.48719301683596 67.11254916512058 L170.88214933796218 65.67272727272729 L172.2771056590884 64.25332838589986 L173.6720619802146 62.85435250463826 L175.06701830134085 61.47579962894247 L176.46197462246707 60.11766975881261 L177.85693094359328 58.77996289424863 L179.2518872647195 57.46267903525052 L180.64684358584572 56.16581818181817 L182.04179990697196 54.88938033395175 L183.43675622809818 53.633365491651205 L184.8317125492244 52.397773654916534 L186.2266688703506 51.18260482374768 L187.62162519147682 49.9878589981447 L189.01658151260307 48.813536178107654 L190.41153783372928 47.65963636363631 L191.8064941548555 46.52615955473101 L193.20145047598172 45.41310575139153 L194.59640679710793 44.32047495361786 L195.99136311823418 43.24826716141007 L197.3863194393604 42.196482374768095 L198.7812757604866 41.16512059369205 L200.17623208161282 40.15418181818188 L201.57118840273904 39.16366604823753 L202.96614472386528 38.193573283858996 L204.3611010449915 37.243903525046335 L205.75605736611772 36.31465677179966 L207.15101368724393 35.40583302411875 L208.54597000837015 34.51743228200371 L209.9409263294964 33.649454545454546 L211.3358826506226 32.8018998144712 L212.73083897174882 31.97476808905384 L214.12579529287504 31.168059369202297 L215.52075161400126 30.381773654916515 L216.9157079351275 29.615910946196664 L218.31066425625372 28.870471243042687 L219.70562057737993 28.145454545454584 L221.10057689850615 27.440860853432298 L222.49553321963236 26.756690166975886 L223.8904895407586 26.09294248608535 L225.28544586188482 25.44961781076063 L226.68040218301104 24.826716141001896 L228.07535850413726 24.224237476808923 L229.47031482526347 23.642181818181882 L230.86527114638972 23.0805491651206 L232.26022746751593 22.53933951762525 L233.65518378864215 22.01855287569572 L235.05014010976836 21.518189239332173 L236.44509643089458 21.03824860853433 L237.84005275202082 20.57873098330242 L239.23500907314704 20.139636363636328 L240.62996539427326 19.720964749536165 L242.02492171539947 19.322716141001877 L243.4198780365257 18.944890538033405 L244.81483435765193 18.58748794063081 L246.20979067877815 18.25050834879403 L247.60474699990436 17.93395176252318 L248.9997033210306 17.637818181818147 L250.3946596421568 17.362107606679047 L251.78961596328304 17.106820037105763 L253.18457228440923 16.871955473098296 L254.57952860553547 16.65751391465676 L255.97448492666172 16.4634953617811 L257.3694412477879 16.289899814471255 L258.76439756891415 16.136727272727285 L260.15935389004034 16.00397773654919 L261.5543102111666 15.89165120593691 L262.9492665322928 15.799747680890562 L264.344222853419 15.728267161410031 L265.73917917454526 15.677209647495374 L267.13413549567144 15.646575139146591 L268.5290918167977 15.636363636363626 L269.92404813792393 15.646575139146591 L271.3190044590501 15.677209647495374 L272.71396078017636 15.728267161410031 L274.10891710130255 15.799747680890562 L275.5038734224288 15.89165120593691 L276.89882974355504 16.00397773654919 L278.2937860646812 16.136727272727285 L279.6887423858075 16.289899814471255 L281.0836987069337 16.4634953617811 L282.47865502805996 16.65751391465676 L283.8736113491862 16.871955473098296 L285.2685676703124 17.106820037105763 L286.66352399143864 17.362107606679047 L288.0584803125648 17.637818181818147 L289.45343663369107 17.93395176252318 L290.8483929548173 18.250508348794085 L292.2433492759435 18.58748794063081 L293.63830559706975 18.944890538033405 L295.03326191819593 19.322716141001877 L296.4282182393222 19.720964749536165 L297.8231745604484 20.139636363636384 L299.2181308815746 20.57873098330242 L300.61308720270085 21.03824860853433 L302.00804352382704 21.518189239332116 L303.4029998449533 22.01855287569572 L304.79795616607953 22.53933951762525 L306.1929124872057 23.0805491651206 L307.58786880833196 23.642181818181882 L308.98282512945815 24.224237476808867 L310.3777814505844 24.826716141001896 L311.77273777171064 25.449617810760685 L313.1676940928368 26.09294248608535 L314.56265041396307 26.756690166975886 L315.95760673508926 27.440860853432298 L317.3525630562155 28.145454545454584 L318.74751937734175 28.870471243042743 L320.14247569846793 29.615910946196664 L321.5374320195942 30.381773654916515 L322.93238834072037 31.16805936920224 L324.3273446618466 31.97476808905384 L325.72230098297285 32.801899814471255 L327.11725730409904 33.649454545454546 L328.5122136252253 34.51743228200371 L329.9071699463515 35.40583302411875 L331.3021262674777 36.31465677179966 L332.69708258860396 37.24390352504645 L334.09203890973015 38.193573283858996 L335.4869952308564 39.16366604823753 L336.8819515519826 40.154181818181826 L338.2769078731088 41.16512059369205 L339.67186419423507 42.196482374768095 L341.06682051536126 43.24826716141007 L342.4617768364875 44.32047495361786 L343.8567331576137 45.41310575139147 L345.25168947873993 46.52615955473101 L346.6466457998662 47.659636363636366 L348.04160212099237 48.813536178107654 L349.4365584421186 49.9878589981447 L350.8315147632448 51.18260482374768 L352.22647108437104 52.397773654916534 L353.6214274054973 53.63336549165126 L355.0163837266235 54.88938033395175 L356.4113400477497 56.16581818181817 L357.8062963688759 57.46267903525046 L359.20125269000215 58.77996289424863 L360.5962090111284 60.11766975881261 L361.9911653322546 61.47579962894247 L363.3861216533808 62.85435250463826 L364.781077974507 64.2533283858998 L366.17603429563326 65.67272727272729 L367.5709906167595 67.11254916512064 L368.9659469378857 68.57279406307981 L370.36090325901193 70.05346196660486 L371.7558595801381 71.55455287569572 L373.15081590126437 73.07606679035251 L374.5457722223906 74.61800371057518 L375.9407285435168 76.18036363636364 L377.33568486464304 77.76314656771802 L378.73064118576923 79.3663525046382 L380.1255975068955 80.98998144712431 L381.5205538280217 82.63403339517629 L382.9155101491479 84.29850834879406 L384.31046647027415 85.98340630797776 L385.70542279140034 87.68872727272725 L387.1003791125266 89.4144712430427 L388.4953354336528 91.16063821892399 L389.890291754779 92.92722820037108 L391.28524807590526 94.71424118738409 L392.68020439703145 96.5216771799629 L394.0751607181577 98.34953617810763 L395.47011703928393 100.19781818181823 L396.8650733604101 102.06652319109463 L398.26002968153637 103.95565120593693 L399.65498600266255 105.86520222634508 L401.0499423237888 107.79517625231912 L402.44489864491504 109.74557328385904 L403.83985496604123 111.71639332096473 L405.2348112871675 113.7076363636364 L406.62976760829366 115.71930241187383 L408.0247239294199 117.75139146567719 L409.41968025054615 119.80390352504642 L410.81463657167234 121.87683858998145 L412.2095928927986 123.9701966604824 L413.60454921392477 126.08397773654914 L414.999505535051 128.21818181818182 L416.39446185617726 130.3728089053804 L417.78941817730345 132.5478589981447 L419.1843744984297 134.74333209647497 L420.5793308195559 136.95922820037103 L421.9742871406821 139.19554730983305 L423.36924346180837 141.4522894248609 L424.76419978293455 143.72945454545456 L426.1591561040608 146.02704267161414 L427.554112425187 148.3450538033395 L428.94906874631323 150.6834879406308 L430.3440250674395 153.042345083488 L431.73898138856566 155.42162523191095 L433.1339377096919 157.82132838589985 L434.5288940308181 160.2414545454545 L435.92385035194434 162.68200371057515 L437.3188066730706 165.14297588126163 L438.71376299419677 167.6243710575139 L440.108719315323 170.12618923933212 L441.5036756364492 172.64843042671612 L442.89863195757545 175.19109461966605 L444.2935882787017 177.75418181818188 L445.6885445998279 180.33769202226347 L447.0835009209541 182.941625231911 L448.4784572420803 185.56598144712427 L449.87341356320655 188.21076066790354 L451.2683698843328 190.87596289424866 L452.663326205459 193.56158812615953 L454.05828252658523 196.2676363636364 L455.4532388477114 198.994107606679 L456.84819516883766 201.74100185528758 L458.2431514899639 204.50831910946204 L459.6381078110901 207.29605936920223 L461.03306413221634 210.1042226345084 L462.4280204533425 212.9328089053803 L463.82297677446877 215.7818181818182 L465.217933095595 218.65125046382195 L466.6128894167212 221.54110575139146 L468.00784573784745 224.45138404452695 L469.40280205897363 227.38208534322817 L470.7977583800999 230.33320964749538 L472.1927147012261 233.30475695732844 L473.58767102235237 236.29672727272737 L474.9826273434785 239.30912059369194 L476.37758366460474 242.34193692022262 L477.772539985731 245.39517625231912 L479.16749630685723 248.4688385899815 L480.5624526279835 251.56292393320973 L481.9574089491096 254.67743228200362 L483.35236527023585 257.8123636363636 L484.7473215913621 260.9677179962894 L486.14227791248834 264.1434953617811 L487.5372342336146 267.33969573283866 L488.9321905547407 270.55631910946187 L490.32714687586696 273.7933654916512 L491.7221031969932 277.0508348794063 L493.11705951811945 280.32872727272735 L494.5120158392457 283.6270426716142 L495.9069721603718 286.9457810760667 L497.30192848149807 290.2849424860853 L498.6968848026243 293.6445269016698 L500.09184112375056 297.0245343228201 L501.4867974448768 300.4249647495363 L502.88175376600293 303.8458181818181 L504.2767100871292 307.287094619666 L505.6716664082554 310.7487940630798 L507.06662272938166 314.2309165120594 L508.4615790505079 317.7334619666049 L509.85653537163404 321.25643042671607 L511.2514916927603 324.79982189239325 L512.6464480138865 328.3636363636364 \" fill=\"none\" stroke-width=\"1.0\" stroke=\"rgb(17,142,216)\" stroke-opacity=\"1.0\">\n          </path>\n        </g>\n      </g>\n      <g transform=\"translate(29.941816366404606 0.0 ) \" clip-path=\"url(#cOP2750)\" clip-bounds-jfx=\"[rect (0.0, 0.0), (537.0581836335954, 344.0)]\">\n        <defs>\n          <clipPath id=\"cOP2750\">\n            <rect x=\"0.0\" y=\"0.0\" width=\"537.0581836335954\" height=\"344.0\">\n            </rect>\n          </clipPath>\n        </defs>\n        <line x1=\"0.0\" y1=\"110.85862708719853\" x2=\"537.0581836335954\" y2=\"110.85862708719853\" stroke=\"rgb(238,102,102)\" stroke-opacity=\"1.0\" fill=\"rgb(17,142,216)\" fill-opacity=\"1.0\" stroke-width=\"1.0\" stroke-dasharray=\"4.3,4.3\">\n        </line>\n      </g>\n    </g>\n    <g transform=\"translate(14.5 182.0 ) rotate(-90.0 ) \">\n      <text class=\"axis-title-y\" y=\"0.0\" text-anchor=\"middle\">\n      y\n      </text>\n    </g>\n    <g transform=\"translate(321.4709081832023 391.5 ) \">\n      <text class=\"axis-title-x\" y=\"0.0\" text-anchor=\"middle\">\n      x\n      </text>\n    </g>\n  </g>\n  <g id=\"dtljJIw\">\n  </g>\n</svg>\n        <script>document.getElementById(\"e4900447-3edf-47d0-984d-97ff969e5367\").style.display = \"none\";</script>",
      "application/plot+json": {
       "output_type": "lets_plot_spec",
       "output": {
        "mapping": {},
        "data": {},
        "kind": "plot",
        "scales": [
         {
          "aesthetic": "x",
          "limits": [
           null,
           null
          ]
         },
         {
          "aesthetic": "y",
          "limits": [
           null,
           null
          ]
         },
         {
          "aesthetic": "x",
          "limits": [
           null,
           null
          ]
         },
         {
          "aesthetic": "y",
          "limits": [
           null,
           null
          ]
         },
         {
          "aesthetic": "x",
          "limits": [
           null,
           null
          ]
         },
         {
          "aesthetic": "y",
          "limits": [
           null,
           null
          ]
         },
         {
          "aesthetic": "x",
          "limits": [
           null,
           null
          ]
         },
         {
          "aesthetic": "y",
          "limits": [
           null,
           null
          ]
         },
         {
          "aesthetic": "x",
          "limits": [
           null,
           null
          ]
         },
         {
          "aesthetic": "y",
          "limits": [
           null,
           null
          ]
         },
         {
          "aesthetic": "x",
          "limits": [
           null,
           null
          ]
         },
         {
          "aesthetic": "y",
          "limits": [
           null,
           null
          ]
         },
         {
          "aesthetic": "x",
          "limits": [
           null,
           null
          ]
         },
         {
          "aesthetic": "y",
          "limits": [
           null,
           null
          ]
         },
         {
          "aesthetic": "x",
          "limits": [
           null,
           null
          ]
         },
         {
          "aesthetic": "y",
          "limits": [
           null,
           null
          ]
         },
         {
          "aesthetic": "x",
          "limits": [
           null,
           null
          ]
         },
         {
          "aesthetic": "y",
          "limits": [
           null,
           null
          ]
         },
         {
          "aesthetic": "x",
          "limits": [
           null,
           null
          ]
         },
         {
          "aesthetic": "y",
          "limits": [
           null,
           null
          ]
         },
         {
          "aesthetic": "x",
          "limits": [
           null,
           null
          ]
         },
         {
          "aesthetic": "y",
          "limits": [
           null,
           null
          ]
         },
         {
          "aesthetic": "x",
          "limits": [
           null,
           null
          ]
         },
         {
          "aesthetic": "y",
          "limits": [
           null,
           null
          ]
         },
         {
          "aesthetic": "x",
          "limits": [
           null,
           null
          ]
         },
         {
          "aesthetic": "y",
          "limits": [
           null,
           null
          ]
         },
         {
          "aesthetic": "x",
          "limits": [
           null,
           null
          ]
         },
         {
          "aesthetic": "y",
          "limits": [
           null,
           null
          ]
         },
         {
          "aesthetic": "x",
          "limits": [
           null,
           null
          ]
         },
         {
          "aesthetic": "y",
          "limits": [
           null,
           null
          ]
         },
         {
          "aesthetic": "x",
          "limits": [
           null,
           null
          ]
         },
         {
          "aesthetic": "y",
          "limits": [
           null,
           null
          ]
         },
         {
          "aesthetic": "x",
          "limits": [
           null,
           null
          ]
         },
         {
          "aesthetic": "y",
          "limits": [
           null,
           null
          ]
         },
         {
          "aesthetic": "x",
          "limits": [
           null,
           null
          ]
         },
         {
          "aesthetic": "y",
          "limits": [
           null,
           null
          ]
         },
         {
          "aesthetic": "x",
          "limits": [
           null,
           null
          ]
         },
         {
          "aesthetic": "y",
          "limits": [
           null,
           null
          ]
         },
         {
          "aesthetic": "x",
          "limits": [
           null,
           null
          ]
         },
         {
          "aesthetic": "y",
          "limits": [
           null,
           null
          ]
         },
         {
          "aesthetic": "x",
          "limits": [
           null,
           null
          ]
         },
         {
          "aesthetic": "y",
          "limits": [
           null,
           null
          ]
         },
         {
          "aesthetic": "x",
          "limits": [
           null,
           null
          ]
         },
         {
          "aesthetic": "y",
          "limits": [
           null,
           null
          ]
         },
         {
          "aesthetic": "x",
          "limits": [
           null,
           null
          ]
         },
         {
          "aesthetic": "y",
          "limits": [
           null,
           null
          ]
         },
         {
          "aesthetic": "x",
          "limits": [
           null,
           null
          ]
         },
         {
          "aesthetic": "y",
          "limits": [
           null,
           null
          ]
         },
         {
          "aesthetic": "x",
          "limits": [
           null,
           null
          ]
         },
         {
          "aesthetic": "y",
          "limits": [
           null,
           null
          ]
         },
         {
          "aesthetic": "x",
          "limits": [
           null,
           null
          ]
         },
         {
          "aesthetic": "y",
          "limits": [
           null,
           null
          ]
         },
         {
          "aesthetic": "x",
          "limits": [
           null,
           null
          ]
         },
         {
          "aesthetic": "y",
          "limits": [
           null,
           null
          ]
         },
         {
          "aesthetic": "x",
          "limits": [
           null,
           null
          ]
         },
         {
          "aesthetic": "y",
          "limits": [
           null,
           null
          ]
         },
         {
          "aesthetic": "x",
          "limits": [
           null,
           null
          ]
         },
         {
          "aesthetic": "y",
          "limits": [
           null,
           null
          ]
         },
         {
          "aesthetic": "x",
          "limits": [
           null,
           null
          ]
         },
         {
          "aesthetic": "y",
          "limits": [
           null,
           null
          ]
         },
         {
          "aesthetic": "x",
          "limits": [
           null,
           null
          ]
         },
         {
          "aesthetic": "y",
          "limits": [
           null,
           null
          ]
         },
         {
          "aesthetic": "x",
          "limits": [
           null,
           null
          ]
         },
         {
          "aesthetic": "y",
          "limits": [
           null,
           null
          ]
         },
         {
          "aesthetic": "x",
          "limits": [
           null,
           null
          ]
         },
         {
          "aesthetic": "y",
          "limits": [
           null,
           null
          ]
         },
         {
          "aesthetic": "x",
          "limits": [
           null,
           null
          ]
         },
         {
          "aesthetic": "y",
          "limits": [
           null,
           null
          ]
         },
         {
          "aesthetic": "x",
          "limits": [
           null,
           null
          ]
         },
         {
          "aesthetic": "y",
          "limits": [
           null,
           null
          ]
         }
        ],
        "layers": [
         {
          "mapping": {
           "x": "x",
           "y": "y"
          },
          "stat": "identity",
          "data": {
           "x": [
            8.0,
            35.0
           ],
           "y": [
            0.0,
            216.0
           ]
          },
          "color": "#3ba272",
          "sampling": "none",
          "position": "identity",
          "geom": "line"
         },
         {
          "mapping": {
           "x": "x",
           "y": "y"
          },
          "stat": "identity",
          "data": {
           "x": [
            9.0,
            35.0
           ],
           "y": [
            0.0,
            234.0
           ]
          },
          "color": "#3ba272",
          "sampling": "none",
          "position": "identity",
          "geom": "line"
         },
         {
          "mapping": {
           "x": "x",
           "y": "y"
          },
          "stat": "identity",
          "data": {
           "x": [
            10.0,
            35.0
           ],
           "y": [
            0.0,
            250.0
           ]
          },
          "color": "#3ba272",
          "sampling": "none",
          "position": "identity",
          "geom": "line"
         },
         {
          "mapping": {
           "x": "x",
           "y": "y"
          },
          "stat": "identity",
          "data": {
           "x": [
            11.0,
            35.0
           ],
           "y": [
            0.0,
            264.0
           ]
          },
          "color": "#3ba272",
          "sampling": "none",
          "position": "identity",
          "geom": "line"
         },
         {
          "mapping": {
           "x": "x",
           "y": "y"
          },
          "stat": "identity",
          "data": {
           "x": [
            12.0,
            35.0
           ],
           "y": [
            0.0,
            276.0
           ]
          },
          "color": "#3ba272",
          "sampling": "none",
          "position": "identity",
          "geom": "line"
         },
         {
          "mapping": {
           "x": "x",
           "y": "y"
          },
          "stat": "identity",
          "data": {
           "x": [
            13.0,
            35.0
           ],
           "y": [
            0.0,
            286.0
           ]
          },
          "color": "#3ba272",
          "sampling": "none",
          "position": "identity",
          "geom": "line"
         },
         {
          "mapping": {
           "x": "x",
           "y": "y"
          },
          "stat": "identity",
          "data": {
           "x": [
            14.0,
            35.0
           ],
           "y": [
            0.0,
            294.0
           ]
          },
          "color": "#3ba272",
          "sampling": "none",
          "position": "identity",
          "geom": "line"
         },
         {
          "mapping": {
           "x": "x",
           "y": "y"
          },
          "stat": "identity",
          "data": {
           "x": [
            15.0,
            35.0
           ],
           "y": [
            0.0,
            300.0
           ]
          },
          "color": "#3ba272",
          "sampling": "none",
          "position": "identity",
          "geom": "line"
         },
         {
          "mapping": {
           "x": "x",
           "y": "y"
          },
          "stat": "identity",
          "data": {
           "x": [
            16.0,
            35.0
           ],
           "y": [
            0.0,
            304.0
           ]
          },
          "color": "#3ba272",
          "sampling": "none",
          "position": "identity",
          "geom": "line"
         },
         {
          "mapping": {
           "x": "x",
           "y": "y"
          },
          "stat": "identity",
          "data": {
           "x": [
            17.0,
            35.0
           ],
           "y": [
            0.0,
            306.0
           ]
          },
          "color": "#3ba272",
          "sampling": "none",
          "position": "identity",
          "geom": "line"
         },
         {
          "mapping": {
           "x": "x",
           "y": "y"
          },
          "stat": "identity",
          "data": {
           "x": [
            18.0,
            35.0
           ],
           "y": [
            0.0,
            306.0
           ]
          },
          "color": "#3ba272",
          "sampling": "none",
          "position": "identity",
          "geom": "line"
         },
         {
          "mapping": {
           "x": "x",
           "y": "y"
          },
          "stat": "identity",
          "data": {
           "x": [
            19.0,
            35.0
           ],
           "y": [
            0.0,
            304.0
           ]
          },
          "color": "#3ba272",
          "sampling": "none",
          "position": "identity",
          "geom": "line"
         },
         {
          "mapping": {
           "x": "x",
           "y": "y"
          },
          "stat": "identity",
          "data": {
           "x": [
            20.0,
            35.0
           ],
           "y": [
            0.0,
            300.0
           ]
          },
          "color": "#3ba272",
          "sampling": "none",
          "position": "identity",
          "geom": "line"
         },
         {
          "mapping": {
           "x": "x",
           "y": "y"
          },
          "stat": "identity",
          "data": {
           "x": [
            21.0,
            35.0
           ],
           "y": [
            0.0,
            294.0
           ]
          },
          "color": "#3ba272",
          "sampling": "none",
          "position": "identity",
          "geom": "line"
         },
         {
          "mapping": {
           "x": "x",
           "y": "y"
          },
          "stat": "identity",
          "data": {
           "x": [
            22.0,
            35.0
           ],
           "y": [
            0.0,
            286.0
           ]
          },
          "color": "#3ba272",
          "sampling": "none",
          "position": "identity",
          "geom": "line"
         },
         {
          "mapping": {
           "x": "x",
           "y": "y"
          },
          "stat": "identity",
          "data": {
           "x": [
            23.0,
            35.0
           ],
           "y": [
            0.0,
            276.0
           ]
          },
          "color": "#3ba272",
          "sampling": "none",
          "position": "identity",
          "geom": "line"
         },
         {
          "mapping": {
           "x": "x",
           "y": "y"
          },
          "stat": "identity",
          "data": {
           "x": [
            24.0,
            35.0
           ],
           "y": [
            0.0,
            264.0
           ]
          },
          "color": "#3ba272",
          "sampling": "none",
          "position": "identity",
          "geom": "line"
         },
         {
          "mapping": {
           "x": "x",
           "y": "y"
          },
          "stat": "identity",
          "data": {
           "x": [
            25.0,
            35.0
           ],
           "y": [
            0.0,
            250.0
           ]
          },
          "color": "#3ba272",
          "sampling": "none",
          "position": "identity",
          "geom": "line"
         },
         {
          "mapping": {
           "x": "x",
           "y": "y"
          },
          "stat": "identity",
          "data": {
           "x": [
            26.0,
            35.0
           ],
           "y": [
            0.0,
            234.0
           ]
          },
          "color": "#3ba272",
          "sampling": "none",
          "position": "identity",
          "geom": "line"
         },
         {
          "mapping": {
           "x": "x",
           "y": "y"
          },
          "stat": "identity",
          "data": {
           "x": [
            27.0,
            35.0
           ],
           "y": [
            0.0,
            216.0
           ]
          },
          "color": "#3ba272",
          "sampling": "none",
          "position": "identity",
          "geom": "line"
         },
         {
          "mapping": {
           "x": "x",
           "y": "y"
          },
          "stat": "identity",
          "data": {
           "x": [
            1.0,
            35.0
           ],
           "y": [
            0.0,
            34.0
           ]
          },
          "color": "#a39999",
          "sampling": "none",
          "position": "identity",
          "geom": "line"
         },
         {
          "mapping": {
           "x": "x",
           "y": "y"
          },
          "stat": "identity",
          "data": {
           "x": [
            2.0,
            35.0
           ],
           "y": [
            0.0,
            66.0
           ]
          },
          "color": "#a39999",
          "sampling": "none",
          "position": "identity",
          "geom": "line"
         },
         {
          "mapping": {
           "x": "x",
           "y": "y"
          },
          "stat": "identity",
          "data": {
           "x": [
            3.0,
            35.0
           ],
           "y": [
            0.0,
            96.0
           ]
          },
          "color": "#a39999",
          "sampling": "none",
          "position": "identity",
          "geom": "line"
         },
         {
          "mapping": {
           "x": "x",
           "y": "y"
          },
          "stat": "identity",
          "data": {
           "x": [
            4.0,
            35.0
           ],
           "y": [
            0.0,
            124.0
           ]
          },
          "color": "#a39999",
          "sampling": "none",
          "position": "identity",
          "geom": "line"
         },
         {
          "mapping": {
           "x": "x",
           "y": "y"
          },
          "stat": "identity",
          "data": {
           "x": [
            5.0,
            35.0
           ],
           "y": [
            0.0,
            150.0
           ]
          },
          "color": "#a39999",
          "sampling": "none",
          "position": "identity",
          "geom": "line"
         },
         {
          "mapping": {
           "x": "x",
           "y": "y"
          },
          "stat": "identity",
          "data": {
           "x": [
            6.0,
            35.0
           ],
           "y": [
            0.0,
            174.0
           ]
          },
          "color": "#a39999",
          "sampling": "none",
          "position": "identity",
          "geom": "line"
         },
         {
          "mapping": {
           "x": "x",
           "y": "y"
          },
          "stat": "identity",
          "data": {
           "x": [
            7.0,
            35.0
           ],
           "y": [
            0.0,
            196.0
           ]
          },
          "color": "#a39999",
          "sampling": "none",
          "position": "identity",
          "geom": "line"
         },
         {
          "mapping": {
           "x": "x",
           "y": "y"
          },
          "stat": "identity",
          "data": {
           "x": [
            28.0,
            35.0
           ],
           "y": [
            0.0,
            196.0
           ]
          },
          "color": "#a39999",
          "sampling": "none",
          "position": "identity",
          "geom": "line"
         },
         {
          "mapping": {
           "x": "x",
           "y": "y"
          },
          "stat": "identity",
          "data": {
           "x": [
            29.0,
            35.0
           ],
           "y": [
            0.0,
            174.0
           ]
          },
          "color": "#a39999",
          "sampling": "none",
          "position": "identity",
          "geom": "line"
         },
         {
          "mapping": {
           "x": "x",
           "y": "y"
          },
          "stat": "identity",
          "data": {
           "x": [
            30.0,
            35.0
           ],
           "y": [
            0.0,
            150.0
           ]
          },
          "color": "#a39999",
          "sampling": "none",
          "position": "identity",
          "geom": "line"
         },
         {
          "mapping": {
           "x": "x",
           "y": "y"
          },
          "stat": "identity",
          "data": {
           "x": [
            31.0,
            35.0
           ],
           "y": [
            0.0,
            124.0
           ]
          },
          "color": "#a39999",
          "sampling": "none",
          "position": "identity",
          "geom": "line"
         },
         {
          "mapping": {
           "x": "x",
           "y": "y"
          },
          "stat": "identity",
          "data": {
           "x": [
            32.0,
            35.0
           ],
           "y": [
            0.0,
            96.0
           ]
          },
          "color": "#a39999",
          "sampling": "none",
          "position": "identity",
          "geom": "line"
         },
         {
          "mapping": {
           "x": "x",
           "y": "y"
          },
          "stat": "identity",
          "data": {
           "x": [
            33.0,
            35.0
           ],
           "y": [
            0.0,
            66.0
           ]
          },
          "color": "#a39999",
          "sampling": "none",
          "position": "identity",
          "geom": "line"
         },
         {
          "mapping": {
           "x": "x",
           "y": "y"
          },
          "stat": "identity",
          "data": {
           "x": [
            34.0,
            35.0
           ],
           "y": [
            0.0,
            34.0
           ]
          },
          "color": "#a39999",
          "sampling": "none",
          "position": "identity",
          "geom": "line"
         },
         {
          "mapping": {
           "x": "x",
           "y": "y"
          },
          "stat": "identity",
          "data": {
           "x": [
            0.0,
            0.1,
            0.2,
            0.3,
            0.4,
            0.5,
            0.6,
            0.7,
            0.8,
            0.9,
            1.0,
            1.1,
            1.2,
            1.3,
            1.4,
            1.5,
            1.6,
            1.7,
            1.8,
            1.9,
            2.0,
            2.1,
            2.2,
            2.3,
            2.4,
            2.5,
            2.6,
            2.7,
            2.8,
            2.9,
            3.0,
            3.1,
            3.2,
            3.3,
            3.4,
            3.5,
            3.6,
            3.7,
            3.8,
            3.9,
            4.0,
            4.1,
            4.2,
            4.3,
            4.4,
            4.5,
            4.6,
            4.7,
            4.8,
            4.9,
            5.0,
            5.1,
            5.2,
            5.3,
            5.4,
            5.5,
            5.6,
            5.7,
            5.8,
            5.9,
            6.0,
            6.1,
            6.2,
            6.3,
            6.4,
            6.5,
            6.6,
            6.7,
            6.8,
            6.9,
            7.0,
            7.1,
            7.2,
            7.3,
            7.4,
            7.5,
            7.6,
            7.7,
            7.8,
            7.9,
            8.0,
            8.1,
            8.2,
            8.3,
            8.4,
            8.5,
            8.6,
            8.7,
            8.8,
            8.9,
            9.0,
            9.1,
            9.2,
            9.3,
            9.4,
            9.5,
            9.6,
            9.7,
            9.8,
            9.9,
            10.0,
            10.1,
            10.2,
            10.3,
            10.4,
            10.5,
            10.6,
            10.7,
            10.8,
            10.9,
            11.0,
            11.1,
            11.2,
            11.3,
            11.4,
            11.5,
            11.6,
            11.7,
            11.8,
            11.9,
            12.0,
            12.1,
            12.2,
            12.3,
            12.4,
            12.5,
            12.6,
            12.7,
            12.8,
            12.9,
            13.0,
            13.1,
            13.2,
            13.3,
            13.4,
            13.5,
            13.6,
            13.7,
            13.8,
            13.9,
            14.0,
            14.1,
            14.2,
            14.3,
            14.4,
            14.5,
            14.6,
            14.7,
            14.8,
            14.9,
            15.0,
            15.1,
            15.2,
            15.3,
            15.4,
            15.5,
            15.6,
            15.7,
            15.8,
            15.9,
            16.0,
            16.1,
            16.2,
            16.3,
            16.4,
            16.5,
            16.6,
            16.7,
            16.8,
            16.9,
            17.0,
            17.1,
            17.2,
            17.3,
            17.4,
            17.5,
            17.6,
            17.7,
            17.8,
            17.9,
            18.0,
            18.1,
            18.2,
            18.3,
            18.4,
            18.5,
            18.6,
            18.7,
            18.8,
            18.9,
            19.0,
            19.1,
            19.2,
            19.3,
            19.4,
            19.5,
            19.6,
            19.7,
            19.8,
            19.9,
            20.0,
            20.1,
            20.2,
            20.3,
            20.4,
            20.5,
            20.6,
            20.7,
            20.8,
            20.9,
            21.0,
            21.1,
            21.2,
            21.3,
            21.4,
            21.5,
            21.6,
            21.7,
            21.8,
            21.9,
            22.0,
            22.1,
            22.2,
            22.3,
            22.4,
            22.5,
            22.6,
            22.7,
            22.8,
            22.9,
            23.0,
            23.1,
            23.2,
            23.3,
            23.4,
            23.5,
            23.6,
            23.7,
            23.8,
            23.9,
            24.0,
            24.1,
            24.2,
            24.3,
            24.4,
            24.5,
            24.6,
            24.7,
            24.8,
            24.9,
            25.0,
            25.1,
            25.2,
            25.3,
            25.4,
            25.5,
            25.6,
            25.7,
            25.8,
            25.9,
            26.0,
            26.1,
            26.2,
            26.3,
            26.4,
            26.5,
            26.6,
            26.7,
            26.8,
            26.9,
            27.0,
            27.1,
            27.2,
            27.3,
            27.4,
            27.5,
            27.6,
            27.7,
            27.8,
            27.9,
            28.0,
            28.1,
            28.2,
            28.3,
            28.4,
            28.5,
            28.6,
            28.7,
            28.8,
            28.9,
            29.0,
            29.1,
            29.2,
            29.3,
            29.4,
            29.5,
            29.6,
            29.7,
            29.8,
            29.9,
            30.0,
            30.1,
            30.2,
            30.3,
            30.4,
            30.5,
            30.6,
            30.7,
            30.8,
            30.9,
            31.0,
            31.1,
            31.2,
            31.3,
            31.4,
            31.5,
            31.6,
            31.7,
            31.8,
            31.9,
            32.0,
            32.1,
            32.2,
            32.3,
            32.4,
            32.5,
            32.6,
            32.7,
            32.8,
            32.9,
            33.0,
            33.1,
            33.2,
            33.3,
            33.4,
            33.5,
            33.6,
            33.7,
            33.8,
            33.9,
            34.0,
            34.1,
            34.2,
            34.3,
            34.4,
            34.5,
            34.6,
            34.7,
            34.8,
            34.9,
            35.0
           ],
           "y": [
            0.0,
            3.49,
            6.96,
            10.41,
            13.84,
            17.25,
            20.64,
            24.01,
            27.36,
            30.69,
            34.0,
            37.29,
            40.56,
            43.81,
            47.04,
            50.25,
            53.44,
            56.61,
            59.76,
            62.89,
            66.0,
            69.09,
            72.16,
            75.21,
            78.24,
            81.25,
            84.24,
            87.21,
            90.16,
            93.09,
            96.0,
            98.89,
            101.76,
            104.61,
            107.44,
            110.25,
            113.04,
            115.81,
            118.56,
            121.29,
            124.0,
            126.69,
            129.36,
            132.01,
            134.64,
            137.25,
            139.84,
            142.41,
            144.96,
            147.49,
            150.0,
            152.49,
            154.96,
            157.41,
            159.84,
            162.25,
            164.64,
            167.01,
            169.36,
            171.69,
            174.0,
            176.29,
            178.56,
            180.81,
            183.04,
            185.25,
            187.44,
            189.61,
            191.76,
            193.89,
            196.0,
            198.09,
            200.16,
            202.21,
            204.24,
            206.25,
            208.24,
            210.21,
            212.16,
            214.09,
            216.0,
            217.89,
            219.76,
            221.61,
            223.44,
            225.25,
            227.04,
            228.81,
            230.56,
            232.29,
            234.0,
            235.69,
            237.36,
            239.01,
            240.64,
            242.25,
            243.84,
            245.41,
            246.96,
            248.49,
            250.0,
            251.49,
            252.96,
            254.41,
            255.84,
            257.25,
            258.64,
            260.01,
            261.36,
            262.69,
            264.0,
            265.29,
            266.56,
            267.81,
            269.04,
            270.25,
            271.44,
            272.61,
            273.76,
            274.89,
            276.0,
            277.09,
            278.16,
            279.21,
            280.24,
            281.25,
            282.24,
            283.21,
            284.16,
            285.09,
            286.0,
            286.89,
            287.76,
            288.61,
            289.44,
            290.25,
            291.04,
            291.81,
            292.56,
            293.29,
            294.0,
            294.69,
            295.36,
            296.01,
            296.64,
            297.25,
            297.84,
            298.41,
            298.96,
            299.49,
            300.0,
            300.49,
            300.96,
            301.41,
            301.84,
            302.25,
            302.64,
            303.01,
            303.36,
            303.69,
            304.0,
            304.29,
            304.56,
            304.81,
            305.04,
            305.25,
            305.44,
            305.61,
            305.76,
            305.89,
            306.0,
            306.09,
            306.16,
            306.21,
            306.24,
            306.25,
            306.24,
            306.21,
            306.16,
            306.09,
            306.0,
            305.89,
            305.76,
            305.61,
            305.44,
            305.25,
            305.04,
            304.81,
            304.56,
            304.29,
            304.0,
            303.69,
            303.36,
            303.01,
            302.64,
            302.25,
            301.84,
            301.41,
            300.96,
            300.49,
            300.0,
            299.49,
            298.96,
            298.41,
            297.84,
            297.25,
            296.64,
            296.01,
            295.36,
            294.69,
            294.0,
            293.29,
            292.56,
            291.81,
            291.04,
            290.25,
            289.44,
            288.61,
            287.76,
            286.89,
            286.0,
            285.09,
            284.16,
            283.21,
            282.24,
            281.25,
            280.24,
            279.21,
            278.16,
            277.09,
            276.0,
            274.89,
            273.76,
            272.61,
            271.44,
            270.25,
            269.04,
            267.81,
            266.56,
            265.29,
            264.0,
            262.69,
            261.36,
            260.01,
            258.64,
            257.25,
            255.84,
            254.41,
            252.96,
            251.49,
            250.0,
            248.49,
            246.96,
            245.41,
            243.84,
            242.25,
            240.64,
            239.01,
            237.36,
            235.69,
            234.0,
            232.29,
            230.56,
            228.81,
            227.04,
            225.25,
            223.44,
            221.61,
            219.76,
            217.89,
            216.0,
            214.09,
            212.16,
            210.21,
            208.24,
            206.25,
            204.24,
            202.21,
            200.16,
            198.09,
            196.0,
            193.89,
            191.76,
            189.61,
            187.44,
            185.25,
            183.04,
            180.81,
            178.56,
            176.29,
            174.0,
            171.69,
            169.36,
            167.01,
            164.64,
            162.25,
            159.84,
            157.41,
            154.96,
            152.49,
            150.0,
            147.49,
            144.96,
            142.41,
            139.84,
            137.25,
            134.64,
            132.01,
            129.36,
            126.69,
            124.0,
            121.29,
            118.56,
            115.81,
            113.04,
            110.25,
            107.44,
            104.61,
            101.76,
            98.89,
            96.0,
            93.09,
            90.16,
            87.21,
            84.24,
            81.25,
            78.24,
            75.21,
            72.16,
            69.09,
            66.0,
            62.89,
            59.76,
            56.61,
            53.44,
            50.25,
            47.04,
            43.81,
            40.56,
            37.29,
            34.0,
            30.69,
            27.36,
            24.01,
            20.64,
            17.25,
            13.84,
            10.41,
            6.96,
            3.49,
            0.0
           ]
          },
          "sampling": "none",
          "position": "identity",
          "geom": "line"
         },
         {
          "mapping": {},
          "stat": "identity",
          "yintercept": 213.0,
          "color": "#ee6666",
          "linetype": "dashed",
          "sampling": "none",
          "position": "identity",
          "geom": "hline"
         }
        ]
       },
       "apply_color_scheme": true,
       "swing_enabled": true
      }
     },
     "execution_count": 8,
     "metadata": {},
     "output_type": "execute_result"
    }
   ],
   "source": [
    "import Line_7_jupyter.Line\n",
    "import Line_7_jupyter.Point\n",
    "import org.jetbrains.kotlinx.kandy.letsplot.layers.context.LineContext\n",
    "\n",
    "\n",
    "fun LineContext.plotLine(line: Line) {\n",
    "    x(listOf(line.from.x, line.to.x))\n",
    "    y(listOf(line.from.y, line.to.y))\n",
    "}\n",
    "\n",
    "\n",
    "\n",
    "plot {\n",
    "    val lines = (1 until time).map { pressTime ->\n",
    "        Line(Point(pressTime, 0), Point(time, pressTime * (time - pressTime)))\n",
    "    }\n",
    "\n",
    "    lines.filter { line -> line.to.y > dist }.forEach {\n",
    "        line {\n",
    "            plotLine(it)\n",
    "            color = Color.GREEN\n",
    "        }\n",
    "    }\n",
    "\n",
    "    lines.filter { line -> line.to.y <= dist }.forEach {\n",
    "        line {\n",
    "            plotLine(it)\n",
    "            color = Color.GREY\n",
    "        }\n",
    "    }\n",
    "\n",
    "    line {\n",
    "        val presission = 10\n",
    "        val xs = (0..time * presission).map { it / presission.toDouble() }\n",
    "        val ys = xs.map { x -> x * (time - x) }\n",
    "\n",
    "        x(xs)\n",
    "        y(ys)\n",
    "    }\n",
    "\n",
    "    hLine {\n",
    "        yIntercept.constant(dist)\n",
    "        color = Color.RED\n",
    "        type = LineType.DASHED\n",
    "    }\n",
    "}"
   ],
   "metadata": {
    "collapsed": false,
    "ExecuteTime": {
     "end_time": "2023-12-06T11:34:23.033954Z",
     "start_time": "2023-12-06T11:34:22.493650Z"
    }
   }
  },
  {
   "cell_type": "code",
   "execution_count": 6,
   "outputs": [],
   "source": [],
   "metadata": {
    "collapsed": false,
    "ExecuteTime": {
     "end_time": "2023-12-06T11:34:08.370379Z",
     "start_time": "2023-12-06T11:34:08.366851Z"
    }
   }
  }
 ],
 "metadata": {
  "kernelspec": {
   "display_name": "Kotlin",
   "language": "kotlin",
   "name": "kotlin"
  },
  "language_info": {
   "name": "kotlin",
   "version": "1.9.0",
   "mimetype": "text/x-kotlin",
   "file_extension": ".kt",
   "pygments_lexer": "kotlin",
   "codemirror_mode": "text/x-kotlin",
   "nbconvert_exporter": ""
  },
  "ktnbPluginMetadata": {
   "projectDependencies": [
    "advent-23.main"
   ]
  }
 },
 "nbformat": 4,
 "nbformat_minor": 0
}
